{
  "cells": [
    {
      "cell_type": "code",
      "execution_count": null,
      "metadata": {
        "colab": {
          "base_uri": "https://localhost:8080/"
        },
        "id": "1FPbCSbMSkoV",
        "outputId": "d6af267f-de6d-4773-d186-fddd0737c19f"
      },
      "outputs": [
        {
          "output_type": "stream",
          "name": "stdout",
          "text": [
            "Mounted at /content/drive\n"
          ]
        }
      ],
      "source": [
        "from google.colab import drive\n",
        "drive.mount('/content/drive')"
      ]
    },
    {
      "cell_type": "code",
      "execution_count": null,
      "metadata": {
        "colab": {
          "base_uri": "https://localhost:8080/"
        },
        "id": "w0FwCVKFabsE",
        "outputId": "bc9f9f75-929a-4370-a856-84339a3fea0b"
      },
      "outputs": [
        {
          "output_type": "stream",
          "name": "stdout",
          "text": [
            "TF version: 2.8.0\n",
            "Hub version: 0.12.0\n",
            "WARNING:tensorflow:From <ipython-input-2-d993de2bb053>:5: is_gpu_available (from tensorflow.python.framework.test_util) is deprecated and will be removed in a future version.\n",
            "Instructions for updating:\n",
            "Use `tf.config.list_physical_devices('GPU')` instead.\n",
            "GPU is available\n"
          ]
        }
      ],
      "source": [
        "import tensorflow as tf\n",
        "import tensorflow_hub as hub\n",
        "print(\"TF version:\", tf.__version__)\n",
        "print(\"Hub version:\", hub.__version__)\n",
        "print(\"GPU is\", \"available\" if tf.test.is_gpu_available() else \"NOT AVAILABLE\")"
      ]
    },
    {
      "cell_type": "code",
      "execution_count": null,
      "metadata": {
        "colab": {
          "base_uri": "https://localhost:8080/"
        },
        "id": "QFVRdhzbakCj",
        "outputId": "c4f28b54-4c62-4646-b394-abcc7861d293"
      },
      "outputs": [
        {
          "output_type": "stream",
          "name": "stdout",
          "text": [
            "Archive:  /content/drive/MyDrive/Sign Language Project/BdSL_Word_Eng.zip\n",
            "   creating: Word/\n",
            "   creating: Word/Color/\n",
            "  inflating: Word/Color/IMG-20220122-WA0035.jpg  \n",
            "  inflating: Word/Color/IMG-20220122-WA0036.jpg  \n",
            "  inflating: Word/Color/IMG-20220122-WA0037.jpg  \n",
            "  inflating: Word/Color/IMG-20220122-WA0039.jpg  \n",
            "  inflating: Word/Color/IMG-20220122-WA0040.jpg  \n",
            "  inflating: Word/Color/IMG-20220122-WA0042.jpg  \n",
            "  inflating: Word/Color/IMG_20220121_173754.jpg  \n",
            "  inflating: Word/Color/IMG_20220121_173755.jpg  \n",
            "  inflating: Word/Color/IMG_20220121_173757.jpg  \n",
            "  inflating: Word/Color/IMG_20220121_173758.jpg  \n",
            "  inflating: Word/Color/IMG_20220121_173800.jpg  \n",
            "  inflating: Word/Color/IMG_20220121_173802.jpg  \n",
            "  inflating: Word/Color/IMG_20220121_173803.jpg  \n",
            "  inflating: Word/Color/IMG_20220121_173805.jpg  \n",
            "  inflating: Word/Color/IMG_20220121_173807.jpg  \n",
            "  inflating: Word/Color/IMG_20220121_173808.jpg  \n",
            "  inflating: Word/Color/IMG_20220121_173809.jpg  \n",
            "  inflating: Word/Color/IMG_20220121_173812.jpg  \n",
            "  inflating: Word/Color/IMG_20220121_173814.jpg  \n",
            "  inflating: Word/Color/IMG_20220121_173816.jpg  \n",
            "  inflating: Word/Color/IMG_20220121_173817.jpg  \n",
            "  inflating: Word/Color/IMG_20220121_173820.jpg  \n",
            "  inflating: Word/Color/IMG_20220121_173821.jpg  \n",
            "  inflating: Word/Color/IMG_20220121_173824.jpg  \n",
            "  inflating: Word/Color/IMG_20220121_173825.jpg  \n",
            "  inflating: Word/Color/IMG_20220121_173826.jpg  \n",
            "  inflating: Word/Color/IMG_20220121_173829.jpg  \n",
            "  inflating: Word/Color/IMG_20220121_173831.jpg  \n",
            "  inflating: Word/Color/IMG_20220121_173836.jpg  \n",
            "  inflating: Word/Color/IMG_20220121_173837.jpg  \n",
            "  inflating: Word/Color/IMG_20220121_173838.jpg  \n",
            "  inflating: Word/Color/IMG_20220121_173839.jpg  \n",
            "  inflating: Word/Color/IMG_20220121_173840.jpg  \n",
            "  inflating: Word/Color/IMG_20220121_173842.jpg  \n",
            "  inflating: Word/Color/IMG_20220121_173846.jpg  \n",
            "  inflating: Word/Color/IMG_20220121_173847.jpg  \n",
            "  inflating: Word/Color/IMG_20220121_173855.jpg  \n",
            "  inflating: Word/Color/IMG_20220121_173858.jpg  \n",
            "  inflating: Word/Color/IMG_20220121_173900.jpg  \n",
            "  inflating: Word/Color/IMG_20220121_173901.jpg  \n",
            "  inflating: Word/Color/IMG_20220121_173902.jpg  \n",
            "  inflating: Word/Color/IMG_20220121_173905.jpg  \n",
            "  inflating: Word/Color/IMG_20220121_173912.jpg  \n",
            "  inflating: Word/Color/IMG_20220121_173919.jpg  \n",
            "  inflating: Word/Color/IMG_20220121_173923.jpg  \n",
            "  inflating: Word/Color/IMG_20220121_173924.jpg  \n",
            "  inflating: Word/Color/IMG_20220121_173928.jpg  \n",
            "  inflating: Word/Color/IMG_20220121_173930.jpg  \n",
            "  inflating: Word/Color/IMG_20220121_173945.jpg  \n",
            "  inflating: Word/Color/IMG_20220121_173947.jpg  \n",
            "  inflating: Word/Color/IMG_20220121_173949.jpg  \n",
            "  inflating: Word/Color/IMG_20220121_173951.jpg  \n",
            "  inflating: Word/Color/IMG_20220121_173953.jpg  \n",
            "  inflating: Word/Color/IMG_20220121_173954.jpg  \n",
            "  inflating: Word/Color/IMG_20220121_173956.jpg  \n",
            "  inflating: Word/Color/IMG_20220121_174000.jpg  \n",
            "  inflating: Word/Color/IMG_20220121_174010.jpg  \n",
            "  inflating: Word/Color/IMG_20220121_174011.jpg  \n",
            "  inflating: Word/Color/IMG_20220121_174037.jpg  \n",
            "  inflating: Word/Color/IMG_20220121_174042.jpg  \n",
            "  inflating: Word/Color/IMG_20220121_174044.jpg  \n",
            "  inflating: Word/Color/IMG_20220121_174054.jpg  \n",
            "  inflating: Word/Color/IMG_20220121_174101.jpg  \n",
            "  inflating: Word/Color/IMG_20220121_174102.jpg  \n",
            "  inflating: Word/Color/IMG_20220121_174112.jpg  \n",
            "  inflating: Word/Color/IMG_20220121_174119.jpg  \n",
            "  inflating: Word/Color/IMG_20220121_174125.jpg  \n",
            "  inflating: Word/Color/IMG_20220121_174129.jpg  \n",
            "  inflating: Word/Color/IMG_20220121_174130.jpg  \n",
            "  inflating: Word/Color/IMG_20220121_174136.jpg  \n",
            "  inflating: Word/Color/IMG_20220121_174141.jpg  \n",
            "  inflating: Word/Color/IMG_20220121_174144.jpg  \n",
            "  inflating: Word/Color/IMG_20220121_174146.jpg  \n",
            "  inflating: Word/Color/IMG_20220121_174148.jpg  \n",
            "  inflating: Word/Color/IMG_20220122_214932.jpg  \n",
            "  inflating: Word/Color/IMG_20220122_214940.jpg  \n",
            "  inflating: Word/Color/IMG_20220122_214950.jpg  \n",
            "  inflating: Word/Color/IMG_20220122_215000.jpg  \n",
            "  inflating: Word/Color/IMG_20220122_215013.jpg  \n",
            "  inflating: Word/Color/IMG_20220122_215023.jpg  \n",
            "  inflating: Word/Color/IMG_20220122_215034.jpg  \n",
            "  inflating: Word/Color/IMG_20220122_215045.jpg  \n",
            "  inflating: Word/Color/IMG_20220122_215054.jpg  \n",
            "  inflating: Word/Color/IMG_20220122_215108.jpg  \n",
            "  inflating: Word/Color/IMG_20220122_215740.jpg  \n",
            "  inflating: Word/Color/IMG_20220122_215754.jpg  \n",
            "  inflating: Word/Color/IMG_20220122_215809.jpg  \n",
            "  inflating: Word/Color/IMG_20220122_215847.jpg  \n",
            "  inflating: Word/Color/IMG_20220122_215856.jpg  \n",
            "  inflating: Word/Color/IMG_20220122_215907.jpg  \n",
            "  inflating: Word/Color/IMG_20220122_215918.jpg  \n",
            "  inflating: Word/Color/IMG_20220122_215926.jpg  \n",
            "  inflating: Word/Color/IMG_20220122_215935.jpg  \n",
            "   creating: Word/Friend/\n",
            "  inflating: Word/Friend/IMG_20220121_173005.jpg  \n",
            "  inflating: Word/Friend/IMG_20220121_173007.jpg  \n",
            "  inflating: Word/Friend/IMG_20220121_173008.jpg  \n",
            "  inflating: Word/Friend/IMG_20220121_173009.jpg  \n",
            "  inflating: Word/Friend/IMG_20220121_173011.jpg  \n",
            "  inflating: Word/Friend/IMG_20220121_173015.jpg  \n",
            "  inflating: Word/Friend/IMG_20220121_173016.jpg  \n",
            "  inflating: Word/Friend/IMG_20220121_173020.jpg  \n",
            "  inflating: Word/Friend/IMG_20220121_173021.jpg  \n",
            "  inflating: Word/Friend/IMG_20220121_173022.jpg  \n",
            "  inflating: Word/Friend/IMG_20220121_173024.jpg  \n",
            "  inflating: Word/Friend/IMG_20220121_173026.jpg  \n",
            "  inflating: Word/Friend/IMG_20220121_173027.jpg  \n",
            "  inflating: Word/Friend/IMG_20220121_173033.jpg  \n",
            "  inflating: Word/Friend/IMG_20220121_173035.jpg  \n",
            "  inflating: Word/Friend/IMG_20220121_173039.jpg  \n",
            "  inflating: Word/Friend/IMG_20220121_173042.jpg  \n",
            "  inflating: Word/Friend/IMG_20220121_173045.jpg  \n",
            "  inflating: Word/Friend/IMG_20220121_173047.jpg  \n",
            "  inflating: Word/Friend/IMG_20220121_173052.jpg  \n",
            "  inflating: Word/Friend/IMG_20220121_173056.jpg  \n",
            "  inflating: Word/Friend/IMG_20220121_173101.jpg  \n",
            "  inflating: Word/Friend/IMG_20220121_173120.jpg  \n",
            "  inflating: Word/Friend/IMG_20220121_173123.jpg  \n",
            "  inflating: Word/Friend/IMG_20220121_173124.jpg  \n",
            "  inflating: Word/Friend/IMG_20220121_173127.jpg  \n",
            "  inflating: Word/Friend/IMG_20220121_173129.jpg  \n",
            "  inflating: Word/Friend/IMG_20220121_173130.jpg  \n",
            "  inflating: Word/Friend/IMG_20220121_173134.jpg  \n",
            "  inflating: Word/Friend/IMG_20220121_173136.jpg  \n",
            "  inflating: Word/Friend/IMG_20220121_173137.jpg  \n",
            "  inflating: Word/Friend/IMG_20220121_173139.jpg  \n",
            "  inflating: Word/Friend/IMG_20220121_173140.jpg  \n",
            "  inflating: Word/Friend/IMG_20220121_173141.jpg  \n",
            "  inflating: Word/Friend/IMG_20220121_173145.jpg  \n",
            "  inflating: Word/Friend/IMG_20220121_173247.jpg  \n",
            "  inflating: Word/Friend/IMG_20220121_173251.jpg  \n",
            "  inflating: Word/Friend/IMG_20220121_173253.jpg  \n",
            "  inflating: Word/Friend/IMG_20220121_173255.jpg  \n",
            "  inflating: Word/Friend/IMG_20220121_173256.jpg  \n",
            "  inflating: Word/Friend/IMG_20220121_173257.jpg  \n",
            "  inflating: Word/Friend/IMG_20220121_173300.jpg  \n",
            "  inflating: Word/Friend/IMG_20220121_173301.jpg  \n",
            "  inflating: Word/Friend/IMG_20220121_173306.jpg  \n",
            "  inflating: Word/Friend/IMG_20220121_173307.jpg  \n",
            "  inflating: Word/Friend/IMG_20220121_173308.jpg  \n",
            "  inflating: Word/Friend/IMG_20220121_173310.jpg  \n",
            "  inflating: Word/Friend/IMG_20220121_173311.jpg  \n",
            "  inflating: Word/Friend/IMG_20220121_173313.jpg  \n",
            "  inflating: Word/Friend/IMG_20220121_173320.jpg  \n",
            "  inflating: Word/Friend/IMG_20220121_173321.jpg  \n",
            "  inflating: Word/Friend/IMG_20220121_173325.jpg  \n",
            "  inflating: Word/Friend/IMG_20220121_173328.jpg  \n",
            "  inflating: Word/Friend/IMG_20220121_173329.jpg  \n",
            "  inflating: Word/Friend/IMG_20220121_173332.jpg  \n",
            "  inflating: Word/Friend/IMG_20220121_173333.jpg  \n",
            "  inflating: Word/Friend/IMG_20220121_173335.jpg  \n",
            "  inflating: Word/Friend/IMG_20220121_173336.jpg  \n",
            "  inflating: Word/Friend/IMG_20220121_173338.jpg  \n",
            "  inflating: Word/Friend/IMG_20220121_173339.jpg  \n",
            "  inflating: Word/Friend/IMG_20220121_173342.jpg  \n",
            "  inflating: Word/Friend/IMG_20220121_173343.jpg  \n",
            "  inflating: Word/Friend/IMG_20220121_173344.jpg  \n",
            "  inflating: Word/Friend/IMG_20220121_173346.jpg  \n",
            "  inflating: Word/Friend/IMG_20220121_173350.jpg  \n",
            "  inflating: Word/Friend/IMG_20220121_173352.jpg  \n",
            "  inflating: Word/Friend/IMG_20220121_173353.jpg  \n",
            "  inflating: Word/Friend/IMG_20220121_173355.jpg  \n",
            "  inflating: Word/Friend/IMG_20220121_173358.jpg  \n",
            "  inflating: Word/Friend/IMG_20220121_173400.jpg  \n",
            "  inflating: Word/Friend/IMG_20220121_173404.jpg  \n",
            "  inflating: Word/Friend/IMG_20220121_173406.jpg  \n",
            "  inflating: Word/Friend/IMG_20220121_173409.jpg  \n",
            "  inflating: Word/Friend/IMG_20220121_173410.jpg  \n",
            "  inflating: Word/Friend/IMG_20220121_173412.jpg  \n",
            "  inflating: Word/Friend/IMG_20220121_173417.jpg  \n",
            "  inflating: Word/Friend/IMG_20220121_173423.jpg  \n",
            "  inflating: Word/Friend/IMG_20220121_173424.jpg  \n",
            "  inflating: Word/Friend/IMG_20220122_213331.jpg  \n",
            "  inflating: Word/Friend/IMG_20220122_213344.jpg  \n",
            "  inflating: Word/Friend/IMG_20220122_213357.jpg  \n",
            "  inflating: Word/Friend/IMG_20220122_213406.jpg  \n",
            "  inflating: Word/Friend/IMG_20220122_213419.jpg  \n",
            "  inflating: Word/Friend/IMG_20220122_213428.jpg  \n",
            "  inflating: Word/Friend/IMG_20220122_213438.jpg  \n",
            "  inflating: Word/Friend/IMG_20220122_213448.jpg  \n",
            "  inflating: Word/Friend/IMG_20220122_213458.jpg  \n",
            "  inflating: Word/Friend/IMG_20220122_213510.jpg  \n",
            "  inflating: Word/Friend/IMG_20220122_213519.jpg  \n",
            "  inflating: Word/Friend/IMG_20220122_213543.jpg  \n",
            "  inflating: Word/Friend/IMG_20220122_213553.jpg  \n",
            "  inflating: Word/Friend/IMG_20220122_213604.jpg  \n",
            "  inflating: Word/Friend/IMG_20220122_213613.jpg  \n",
            "  inflating: Word/Friend/IMG_20220122_213632.jpg  \n",
            "  inflating: Word/Friend/IMG_20220122_214208.jpg  \n",
            "  inflating: Word/Friend/IMG_20220122_214221.jpg  \n",
            "  inflating: Word/Friend/IMG_20220122_214230.jpg  \n",
            "  inflating: Word/Friend/IMG_20220122_214239.jpg  \n",
            "  inflating: Word/Friend/IMG_20220122_214249.jpg  \n",
            "  inflating: Word/Friend/IMG_20220122_214259.jpg  \n",
            "  inflating: Word/Friend/IMG_20220122_214310.jpg  \n",
            "  inflating: Word/Friend/IMG_20220122_214322.jpg  \n",
            "  inflating: Word/Friend/IMG_20220122_214331.jpg  \n",
            "   creating: Word/Myself/\n",
            "  inflating: Word/Myself/IMG-20220122-WA0061.jpg  \n",
            "  inflating: Word/Myself/IMG-20220122-WA0067.jpg  \n",
            "  inflating: Word/Myself/IMG-20220122-WA0068.jpg  \n",
            "  inflating: Word/Myself/IMG-20220122-WA0072.jpg  \n",
            "  inflating: Word/Myself/IMG-20220122-WA0074.jpg  \n",
            "  inflating: Word/Myself/IMG-20220122-WA0075.jpg  \n",
            "  inflating: Word/Myself/IMG-20220122-WA0076.jpg  \n",
            "  inflating: Word/Myself/IMG-20220122-WA0077.jpg  \n",
            "  inflating: Word/Myself/IMG-20220122-WA0079.jpg  \n",
            "  inflating: Word/Myself/IMG-20220122-WA0080.jpg  \n",
            "  inflating: Word/Myself/IMG-20220122-WA0095.jpg  \n",
            "  inflating: Word/Myself/IMG-20220122-WA0096.jpg  \n",
            "  inflating: Word/Myself/IMG-20220122-WA0097.jpg  \n",
            "  inflating: Word/Myself/IMG-20220122-WA0098.jpg  \n",
            "  inflating: Word/Myself/IMG-20220122-WA0099.jpg  \n",
            "  inflating: Word/Myself/IMG-20220122-WA0100.jpg  \n",
            "  inflating: Word/Myself/IMG-20220122-WA0101.jpg  \n",
            "  inflating: Word/Myself/IMG-20220122-WA0102.jpg  \n",
            "  inflating: Word/Myself/IMG-20220122-WA0103.jpg  \n",
            "  inflating: Word/Myself/IMG-20220122-WA0104.jpg  \n",
            "  inflating: Word/Myself/IMG-20220122-WA0105.jpg  \n",
            "  inflating: Word/Myself/IMG-20220122-WA0106.jpg  \n",
            "  inflating: Word/Myself/IMG-20220122-WA0107.jpg  \n",
            "  inflating: Word/Myself/IMG-20220122-WA0108.jpg  \n",
            "  inflating: Word/Myself/IMG_20220121_170000.jpg  \n",
            "  inflating: Word/Myself/IMG_20220121_170002.jpg  \n",
            "  inflating: Word/Myself/IMG_20220121_170004.jpg  \n",
            "  inflating: Word/Myself/IMG_20220121_170005.jpg  \n",
            "  inflating: Word/Myself/IMG_20220121_170007.jpg  \n",
            "  inflating: Word/Myself/IMG_20220121_170008.jpg  \n",
            "  inflating: Word/Myself/IMG_20220121_170010.jpg  \n",
            "  inflating: Word/Myself/IMG_20220121_170021.jpg  \n",
            "  inflating: Word/Myself/IMG_20220121_170023.jpg  \n",
            "  inflating: Word/Myself/IMG_20220121_170024.jpg  \n",
            "  inflating: Word/Myself/IMG_20220121_170026.jpg  \n",
            "  inflating: Word/Myself/IMG_20220121_170027.jpg  \n",
            "  inflating: Word/Myself/IMG_20220121_170028.jpg  \n",
            "  inflating: Word/Myself/IMG_20220121_170029.jpg  \n",
            "  inflating: Word/Myself/IMG_20220121_170031.jpg  \n",
            "  inflating: Word/Myself/IMG_20220121_170032.jpg  \n",
            "  inflating: Word/Myself/IMG_20220121_170033.jpg  \n",
            "  inflating: Word/Myself/IMG_20220121_170034.jpg  \n",
            "  inflating: Word/Myself/IMG_20220121_170036.jpg  \n",
            "  inflating: Word/Myself/IMG_20220121_170037.jpg  \n",
            "  inflating: Word/Myself/IMG_20220121_170038.jpg  \n",
            "  inflating: Word/Myself/IMG_20220121_170038_1.jpg  \n",
            "  inflating: Word/Myself/IMG_20220121_170039.jpg  \n",
            "  inflating: Word/Myself/IMG_20220121_170040.jpg  \n",
            "  inflating: Word/Myself/IMG_20220121_170041.jpg  \n",
            "  inflating: Word/Myself/IMG_20220121_170042.jpg  \n",
            "  inflating: Word/Myself/IMG_20220121_170043.jpg  \n",
            "  inflating: Word/Myself/IMG_20220121_170044.jpg  \n",
            "  inflating: Word/Myself/IMG_20220121_170045.jpg  \n",
            "  inflating: Word/Myself/IMG_20220121_170046.jpg  \n",
            "  inflating: Word/Myself/IMG_20220121_170047.jpg  \n",
            "  inflating: Word/Myself/IMG_20220121_170048.jpg  \n",
            "  inflating: Word/Myself/IMG_20220121_170050.jpg  \n",
            "  inflating: Word/Myself/IMG_20220121_170051.jpg  \n",
            "  inflating: Word/Myself/IMG_20220121_170052.jpg  \n",
            "  inflating: Word/Myself/IMG_20220121_170052_1.jpg  \n",
            "  inflating: Word/Myself/IMG_20220121_170053.jpg  \n",
            "  inflating: Word/Myself/IMG_20220121_170056.jpg  \n",
            "  inflating: Word/Myself/IMG_20220121_170100.jpg  \n",
            "  inflating: Word/Myself/IMG_20220121_170102.jpg  \n",
            "  inflating: Word/Myself/IMG_20220121_170105.jpg  \n",
            "  inflating: Word/Myself/IMG_20220121_170109.jpg  \n",
            "  inflating: Word/Myself/IMG_20220121_170111.jpg  \n",
            "  inflating: Word/Myself/IMG_20220121_170136.jpg  \n",
            "  inflating: Word/Myself/IMG_20220121_170139.jpg  \n",
            "  inflating: Word/Myself/IMG_20220121_170142.jpg  \n",
            "  inflating: Word/Myself/IMG_20220121_170143.jpg  \n",
            "  inflating: Word/Myself/IMG_20220121_170146.jpg  \n",
            "  inflating: Word/Myself/IMG_20220121_170149.jpg  \n",
            "  inflating: Word/Myself/IMG_20220121_170151.jpg  \n",
            "  inflating: Word/Myself/IMG_20220121_170152.jpg  \n",
            "  inflating: Word/Myself/IMG_20220121_170154.jpg  \n",
            "  inflating: Word/Myself/IMG_20220121_170156.jpg  \n",
            "  inflating: Word/Myself/IMG_20220121_170157.jpg  \n",
            "  inflating: Word/Myself/IMG_20220121_170219.jpg  \n",
            "  inflating: Word/Myself/IMG_20220121_170220.jpg  \n",
            "  inflating: Word/Myself/IMG_20220121_170223.jpg  \n",
            "  inflating: Word/Myself/IMG_20220121_170224.jpg  \n",
            "  inflating: Word/Myself/IMG_20220121_170226.jpg  \n",
            "  inflating: Word/Myself/IMG_20220121_170227.jpg  \n",
            "  inflating: Word/Myself/IMG_20220121_170228.jpg  \n",
            "  inflating: Word/Myself/IMG_20220121_170233.jpg  \n",
            "  inflating: Word/Myself/IMG_20220121_170234.jpg  \n",
            "  inflating: Word/Myself/IMG_20220121_170236.jpg  \n",
            "  inflating: Word/Myself/IMG_20220121_170240.jpg  \n",
            "  inflating: Word/Myself/IMG_20220121_170243.jpg  \n",
            "  inflating: Word/Myself/IMG_20220121_170244.jpg  \n",
            "  inflating: Word/Myself/IMG_20220121_170247.jpg  \n",
            "  inflating: Word/Myself/IMG_20220121_170258.jpg  \n",
            "  inflating: Word/Myself/IMG_20220121_170259.jpg  \n",
            "  inflating: Word/Myself/IMG_20220121_170308.jpg  \n",
            "  inflating: Word/Myself/IMG_20220121_170310.jpg  \n",
            "  inflating: Word/Myself/IMG_20220122_215548.jpg  \n",
            "  inflating: Word/Myself/IMG_20220122_215556.jpg  \n",
            "  inflating: Word/Myself/IMG_20220122_215604.jpg  \n",
            "  inflating: Word/Myself/IMG_20220122_215618.jpg  \n",
            "  inflating: Word/Myself/IMG_20220122_215627.jpg  \n",
            "  inflating: Word/Myself/IMG_20220122_215634.jpg  \n",
            "  inflating: Word/Myself/IMG_20220122_215641.jpg  \n",
            "  inflating: Word/Myself/IMG_20220122_215649.jpg  \n",
            "  inflating: Word/Myself/IMG_20220122_215709.jpg  \n",
            "   creating: Word/Promise/\n",
            "  inflating: Word/Promise/IMG-20220122-WA0045.jpg  \n",
            "  inflating: Word/Promise/IMG-20220122-WA0046.jpg  \n",
            "  inflating: Word/Promise/IMG-20220122-WA0047.jpg  \n",
            "  inflating: Word/Promise/IMG-20220122-WA0048.jpg  \n",
            "  inflating: Word/Promise/IMG-20220122-WA0049.jpg  \n",
            "  inflating: Word/Promise/IMG-20220122-WA0051.jpg  \n",
            "  inflating: Word/Promise/IMG-20220122-WA0052.jpg  \n",
            "  inflating: Word/Promise/IMG-20220122-WA0078.jpg  \n",
            "  inflating: Word/Promise/IMG-20220122-WA0113.jpg  \n",
            "  inflating: Word/Promise/IMG-20220122-WA0114.jpg  \n",
            "  inflating: Word/Promise/IMG_20220121_165251.jpg  \n",
            "  inflating: Word/Promise/IMG_20220121_165253.jpg  \n",
            "  inflating: Word/Promise/IMG_20220121_165255.jpg  \n",
            "  inflating: Word/Promise/IMG_20220121_165257.jpg  \n",
            "  inflating: Word/Promise/IMG_20220121_165259.jpg  \n",
            "  inflating: Word/Promise/IMG_20220121_165300.jpg  \n",
            "  inflating: Word/Promise/IMG_20220121_165302.jpg  \n",
            "  inflating: Word/Promise/IMG_20220121_165303.jpg  \n",
            "  inflating: Word/Promise/IMG_20220121_165304.jpg  \n",
            "  inflating: Word/Promise/IMG_20220121_165305.jpg  \n",
            "  inflating: Word/Promise/IMG_20220121_165307.jpg  \n",
            "  inflating: Word/Promise/IMG_20220121_165308.jpg  \n",
            "  inflating: Word/Promise/IMG_20220121_165310.jpg  \n",
            "  inflating: Word/Promise/IMG_20220121_165311.jpg  \n",
            "  inflating: Word/Promise/IMG_20220121_165314.jpg  \n",
            "  inflating: Word/Promise/IMG_20220121_165316.jpg  \n",
            "  inflating: Word/Promise/IMG_20220121_165317.jpg  \n",
            "  inflating: Word/Promise/IMG_20220121_165319.jpg  \n",
            "  inflating: Word/Promise/IMG_20220121_165320.jpg  \n",
            "  inflating: Word/Promise/IMG_20220121_165322.jpg  \n",
            "  inflating: Word/Promise/IMG_20220121_165328.jpg  \n",
            "  inflating: Word/Promise/IMG_20220121_165329.jpg  \n",
            "  inflating: Word/Promise/IMG_20220121_165334.jpg  \n",
            "  inflating: Word/Promise/IMG_20220121_165336.jpg  \n",
            "  inflating: Word/Promise/IMG_20220121_165339.jpg  \n",
            "  inflating: Word/Promise/IMG_20220121_165340.jpg  \n",
            "  inflating: Word/Promise/IMG_20220121_165342.jpg  \n",
            "  inflating: Word/Promise/IMG_20220121_165343.jpg  \n",
            "  inflating: Word/Promise/IMG_20220121_165352.jpg  \n",
            "  inflating: Word/Promise/IMG_20220121_165354.jpg  \n",
            "  inflating: Word/Promise/IMG_20220121_165355.jpg  \n",
            "  inflating: Word/Promise/IMG_20220121_165356.jpg  \n",
            "  inflating: Word/Promise/IMG_20220121_165400.jpg  \n",
            "  inflating: Word/Promise/IMG_20220121_165402.jpg  \n",
            "  inflating: Word/Promise/IMG_20220121_165403.jpg  \n",
            "  inflating: Word/Promise/IMG_20220121_165404.jpg  \n",
            "  inflating: Word/Promise/IMG_20220121_165408.jpg  \n",
            "  inflating: Word/Promise/IMG_20220121_165409.jpg  \n",
            "  inflating: Word/Promise/IMG_20220121_165411.jpg  \n",
            "  inflating: Word/Promise/IMG_20220121_165412.jpg  \n",
            "  inflating: Word/Promise/IMG_20220121_165442.jpg  \n",
            "  inflating: Word/Promise/IMG_20220121_165444.jpg  \n",
            "  inflating: Word/Promise/IMG_20220121_165447.jpg  \n",
            "  inflating: Word/Promise/IMG_20220121_165449.jpg  \n",
            "  inflating: Word/Promise/IMG_20220121_165452.jpg  \n",
            "  inflating: Word/Promise/IMG_20220121_165454.jpg  \n",
            "  inflating: Word/Promise/IMG_20220121_165455.jpg  \n",
            "  inflating: Word/Promise/IMG_20220121_165500.jpg  \n",
            "  inflating: Word/Promise/IMG_20220121_165502.jpg  \n",
            "  inflating: Word/Promise/IMG_20220121_165503.jpg  \n",
            "  inflating: Word/Promise/IMG_20220121_165505.jpg  \n",
            "  inflating: Word/Promise/IMG_20220121_165506.jpg  \n",
            "  inflating: Word/Promise/IMG_20220121_165507.jpg  \n",
            "  inflating: Word/Promise/IMG_20220121_165514.jpg  \n",
            "  inflating: Word/Promise/IMG_20220121_165515.jpg  \n",
            "  inflating: Word/Promise/IMG_20220121_165516.jpg  \n",
            "  inflating: Word/Promise/IMG_20220121_165518.jpg  \n",
            "  inflating: Word/Promise/IMG_20220121_165523.jpg  \n",
            "  inflating: Word/Promise/IMG_20220121_165524.jpg  \n",
            "  inflating: Word/Promise/IMG_20220121_165526.jpg  \n",
            "  inflating: Word/Promise/IMG_20220121_165527.jpg  \n",
            "  inflating: Word/Promise/IMG_20220121_165550.jpg  \n",
            "  inflating: Word/Promise/IMG_20220121_165551.jpg  \n",
            "  inflating: Word/Promise/IMG_20220121_165552.jpg  \n",
            "  inflating: Word/Promise/IMG_20220121_165553.jpg  \n",
            "  inflating: Word/Promise/IMG_20220121_165555.jpg  \n",
            "  inflating: Word/Promise/IMG_20220121_165556.jpg  \n",
            "  inflating: Word/Promise/IMG_20220121_165559.jpg  \n",
            "  inflating: Word/Promise/IMG_20220121_165608.jpg  \n",
            "  inflating: Word/Promise/IMG_20220121_165610.jpg  \n",
            "  inflating: Word/Promise/IMG_20220121_165611.jpg  \n",
            "  inflating: Word/Promise/IMG_20220122_215132.jpg  \n",
            "  inflating: Word/Promise/IMG_20220122_215142.jpg  \n",
            "  inflating: Word/Promise/IMG_20220122_215152.jpg  \n",
            "  inflating: Word/Promise/IMG_20220122_215159.jpg  \n",
            "  inflating: Word/Promise/IMG_20220122_215207.jpg  \n",
            "  inflating: Word/Promise/IMG_20220122_215215.jpg  \n",
            "  inflating: Word/Promise/IMG_20220122_215249.jpg  \n",
            "  inflating: Word/Promise/IMG_20220122_215257.jpg  \n",
            "  inflating: Word/Promise/IMG_20220122_215309.jpg  \n",
            "   creating: Word/Request/\n",
            "  inflating: Word/Request/IMG-20220122-WA0219.jpg  \n",
            "  inflating: Word/Request/IMG-20220122-WA0237.jpg  \n",
            "  inflating: Word/Request/IMG-20220122-WA0239.jpg  \n",
            "  inflating: Word/Request/IMG_20220121_171431.jpg  \n",
            "  inflating: Word/Request/IMG_20220121_171432.jpg  \n",
            "  inflating: Word/Request/IMG_20220121_171439.jpg  \n",
            "  inflating: Word/Request/IMG_20220121_171439_1.jpg  \n",
            "  inflating: Word/Request/IMG_20220121_171440.jpg  \n",
            "  inflating: Word/Request/IMG_20220121_171441.jpg  \n",
            "  inflating: Word/Request/IMG_20220121_171444.jpg  \n",
            "  inflating: Word/Request/IMG_20220121_171447.jpg  \n",
            "  inflating: Word/Request/IMG_20220121_171449.jpg  \n",
            "  inflating: Word/Request/IMG_20220121_171450.jpg  \n",
            "  inflating: Word/Request/IMG_20220121_171453.jpg  \n",
            "  inflating: Word/Request/IMG_20220121_171456.jpg  \n",
            "  inflating: Word/Request/IMG_20220121_171457.jpg  \n",
            "  inflating: Word/Request/IMG_20220121_171504.jpg  \n",
            "  inflating: Word/Request/IMG_20220121_171505.jpg  \n",
            "  inflating: Word/Request/IMG_20220121_171506.jpg  \n",
            "  inflating: Word/Request/IMG_20220121_171509.jpg  \n",
            "  inflating: Word/Request/IMG_20220121_171510.jpg  \n",
            "  inflating: Word/Request/IMG_20220121_171511.jpg  \n",
            "  inflating: Word/Request/IMG_20220121_171512.jpg  \n",
            "  inflating: Word/Request/IMG_20220121_171515.jpg  \n",
            "  inflating: Word/Request/IMG_20220121_171515_1.jpg  \n",
            "  inflating: Word/Request/IMG_20220121_171518.jpg  \n",
            "  inflating: Word/Request/IMG_20220121_171520.jpg  \n",
            "  inflating: Word/Request/IMG_20220121_171520_1.jpg  \n",
            "  inflating: Word/Request/IMG_20220121_171523.jpg  \n",
            "  inflating: Word/Request/IMG_20220121_171524.jpg  \n",
            "  inflating: Word/Request/IMG_20220121_171525.jpg  \n",
            "  inflating: Word/Request/IMG_20220121_171530.jpg  \n",
            "  inflating: Word/Request/IMG_20220121_171532.jpg  \n",
            "  inflating: Word/Request/IMG_20220121_171533.jpg  \n",
            "  inflating: Word/Request/IMG_20220121_171550.jpg  \n",
            "  inflating: Word/Request/IMG_20220121_171551.jpg  \n",
            "  inflating: Word/Request/IMG_20220121_171553.jpg  \n",
            "  inflating: Word/Request/IMG_20220121_171554.jpg  \n",
            "  inflating: Word/Request/IMG_20220121_171556.jpg  \n",
            "  inflating: Word/Request/IMG_20220121_171606.jpg  \n",
            "  inflating: Word/Request/IMG_20220121_171611.jpg  \n",
            "  inflating: Word/Request/IMG_20220121_171637.jpg  \n",
            "  inflating: Word/Request/IMG_20220121_171642.jpg  \n",
            "  inflating: Word/Request/IMG_20220121_171654.jpg  \n",
            "  inflating: Word/Request/IMG_20220121_171656.jpg  \n",
            "  inflating: Word/Request/IMG_20220121_171657.jpg  \n",
            "  inflating: Word/Request/IMG_20220121_171658.jpg  \n",
            "  inflating: Word/Request/IMG_20220121_171705.jpg  \n",
            "  inflating: Word/Request/IMG_20220121_171717.jpg  \n",
            "  inflating: Word/Request/IMG_20220121_171718.jpg  \n",
            "  inflating: Word/Request/IMG_20220121_171720.jpg  \n",
            "  inflating: Word/Request/IMG_20220121_171721.jpg  \n",
            "  inflating: Word/Request/IMG_20220121_171722.jpg  \n",
            "  inflating: Word/Request/IMG_20220121_171723.jpg  \n",
            "  inflating: Word/Request/IMG_20220121_171725.jpg  \n",
            "  inflating: Word/Request/IMG_20220121_171726.jpg  \n",
            "  inflating: Word/Request/IMG_20220121_171727.jpg  \n",
            "  inflating: Word/Request/IMG_20220121_171728.jpg  \n",
            "  inflating: Word/Request/IMG_20220121_171729.jpg  \n",
            "  inflating: Word/Request/IMG_20220121_171730.jpg  \n",
            "  inflating: Word/Request/IMG_20220121_171731.jpg  \n",
            "  inflating: Word/Request/IMG_20220121_171732.jpg  \n",
            "  inflating: Word/Request/IMG_20220121_171740.jpg  \n",
            "  inflating: Word/Request/IMG_20220121_171741.jpg  \n",
            "  inflating: Word/Request/IMG_20220121_171829.jpg  \n",
            "  inflating: Word/Request/IMG_20220121_171831.jpg  \n",
            "  inflating: Word/Request/IMG_20220121_171833.jpg  \n",
            "  inflating: Word/Request/IMG_20220121_171836.jpg  \n",
            "  inflating: Word/Request/IMG_20220121_171839.jpg  \n",
            "  inflating: Word/Request/IMG_20220121_171840.jpg  \n",
            "  inflating: Word/Request/IMG_20220121_171852.jpg  \n",
            "  inflating: Word/Request/IMG_20220121_171854.jpg  \n",
            "  inflating: Word/Request/IMG_20220121_171856.jpg  \n",
            "  inflating: Word/Request/IMG_20220121_171858.jpg  \n",
            "  inflating: Word/Request/IMG_20220121_171900.jpg  \n",
            "  inflating: Word/Request/IMG_20220121_171902.jpg  \n",
            "  inflating: Word/Request/IMG_20220121_171903.jpg  \n",
            "  inflating: Word/Request/IMG_20220121_171904.jpg  \n",
            "  inflating: Word/Request/IMG_20220121_171906.jpg  \n",
            "  inflating: Word/Request/IMG_20220121_171908.jpg  \n",
            "  inflating: Word/Request/IMG_20220121_171909.jpg  \n",
            "  inflating: Word/Request/IMG_20220121_171911.jpg  \n",
            "  inflating: Word/Request/IMG_20220121_171913.jpg  \n",
            "  inflating: Word/Request/IMG_20220122_200852.jpg  \n",
            "  inflating: Word/Request/IMG_20220122_200903.jpg  \n",
            "  inflating: Word/Request/IMG_20220122_200917.jpg  \n",
            "  inflating: Word/Request/IMG_20220122_201009.jpg  \n",
            "  inflating: Word/Request/IMG_20220122_201041.jpg  \n",
            "  inflating: Word/Request/IMG_20220122_201105.jpg  \n",
            "  inflating: Word/Request/IMG_20220122_201115.jpg  \n",
            "  inflating: Word/Request/IMG_20220122_201134.jpg  \n",
            "  inflating: Word/Request/IMG_20220122_201146.jpg  \n",
            "  inflating: Word/Request/IMG_20220122_201210.jpg  \n",
            "  inflating: Word/Request/IMG_20220122_201342.jpg  \n",
            "  inflating: Word/Request/IMG_20220122_201357.jpg  \n",
            "  inflating: Word/Request/IMG_20220122_201407.jpg  \n",
            "  inflating: Word/Request/IMG_20220122_201933.jpg  \n",
            "  inflating: Word/Request/IMG_20220122_201944.jpg  \n",
            "  inflating: Word/Request/IMG_20220122_201955.jpg  \n",
            "  inflating: Word/Request/IMG_20220122_213655.jpg  \n",
            "  inflating: Word/Request/IMG_20220122_213705.jpg  \n",
            "  inflating: Word/Request/IMG_20220122_213719.jpg  \n",
            "  inflating: Word/Request/IMG_20220122_213736.jpg  \n",
            "  inflating: Word/Request/IMG_20220122_213748.jpg  \n",
            "  inflating: Word/Request/IMG_20220122_213759.jpg  \n",
            "   creating: Word/Salam/\n",
            "  inflating: Word/Salam/IMG_20220121_163056.jpg  \n",
            "  inflating: Word/Salam/IMG_20220121_163120.jpg  \n",
            "  inflating: Word/Salam/IMG_20220121_163123.jpg  \n",
            "  inflating: Word/Salam/IMG_20220121_163125.jpg  \n",
            "  inflating: Word/Salam/IMG_20220121_163128.jpg  \n",
            "  inflating: Word/Salam/IMG_20220121_163131.jpg  \n",
            "  inflating: Word/Salam/IMG_20220121_163132.jpg  \n",
            "  inflating: Word/Salam/IMG_20220121_163135.jpg  \n",
            "  inflating: Word/Salam/IMG_20220121_163137.jpg  \n",
            "  inflating: Word/Salam/IMG_20220121_163139.jpg  \n",
            "  inflating: Word/Salam/IMG_20220121_163156.jpg  \n",
            "  inflating: Word/Salam/IMG_20220121_163158.jpg  \n",
            "  inflating: Word/Salam/IMG_20220121_163206.jpg  \n",
            "  inflating: Word/Salam/IMG_20220121_163208.jpg  \n",
            "  inflating: Word/Salam/IMG_20220121_163213.jpg  \n",
            "  inflating: Word/Salam/IMG_20220121_163222.jpg  \n",
            "  inflating: Word/Salam/IMG_20220121_163252.jpg  \n",
            "  inflating: Word/Salam/IMG_20220121_163258.jpg  \n",
            "  inflating: Word/Salam/IMG_20220121_163301.jpg  \n",
            "  inflating: Word/Salam/IMG_20220121_163306.jpg  \n",
            "  inflating: Word/Salam/IMG_20220121_163310.jpg  \n",
            "  inflating: Word/Salam/IMG_20220121_163312.jpg  \n",
            "  inflating: Word/Salam/IMG_20220121_163317.jpg  \n",
            "  inflating: Word/Salam/IMG_20220121_163322.jpg  \n",
            "  inflating: Word/Salam/IMG_20220121_163352.jpg  \n",
            "  inflating: Word/Salam/IMG_20220121_163357.jpg  \n",
            "  inflating: Word/Salam/IMG_20220121_163357_1.jpg  \n",
            "  inflating: Word/Salam/IMG_20220121_163359.jpg  \n",
            "  inflating: Word/Salam/IMG_20220121_163402.jpg  \n",
            "  inflating: Word/Salam/IMG_20220121_163403.jpg  \n",
            "  inflating: Word/Salam/IMG_20220121_163407.jpg  \n",
            "  inflating: Word/Salam/IMG_20220121_163413.jpg  \n",
            "  inflating: Word/Salam/IMG_20220121_163416.jpg  \n",
            "  inflating: Word/Salam/IMG_20220121_163418.jpg  \n",
            "  inflating: Word/Salam/IMG_20220121_163421.jpg  \n",
            "  inflating: Word/Salam/IMG_20220121_163423.jpg  \n",
            "  inflating: Word/Salam/IMG_20220121_163424.jpg  \n",
            "  inflating: Word/Salam/IMG_20220121_163425.jpg  \n",
            "  inflating: Word/Salam/IMG_20220121_163430.jpg  \n",
            "  inflating: Word/Salam/IMG_20220121_163704.jpg  \n",
            "  inflating: Word/Salam/IMG_20220121_163919.jpg  \n",
            "  inflating: Word/Salam/IMG_20220121_163921.jpg  \n",
            "  inflating: Word/Salam/IMG_20220121_163922.jpg  \n",
            "  inflating: Word/Salam/IMG_20220121_163930.jpg  \n",
            "  inflating: Word/Salam/IMG_20220121_163933.jpg  \n",
            "  inflating: Word/Salam/IMG_20220121_163935.jpg  \n",
            "  inflating: Word/Salam/IMG_20220121_163936.jpg  \n",
            "  inflating: Word/Salam/IMG_20220121_163938.jpg  \n",
            "  inflating: Word/Salam/IMG_20220121_163939.jpg  \n",
            "  inflating: Word/Salam/IMG_20220121_163944.jpg  \n",
            "  inflating: Word/Salam/IMG_20220121_163945.jpg  \n",
            "  inflating: Word/Salam/IMG_20220121_163950.jpg  \n",
            "  inflating: Word/Salam/IMG_20220121_163955.jpg  \n",
            "  inflating: Word/Salam/IMG_20220121_164001.jpg  \n",
            "  inflating: Word/Salam/IMG_20220121_164006.jpg  \n",
            "  inflating: Word/Salam/IMG_20220121_164008.jpg  \n",
            "  inflating: Word/Salam/IMG_20220121_164009.jpg  \n",
            "  inflating: Word/Salam/IMG_20220121_164015.jpg  \n",
            "  inflating: Word/Salam/IMG_20220121_164017.jpg  \n",
            "  inflating: Word/Salam/IMG_20220121_164018.jpg  \n",
            "  inflating: Word/Salam/IMG_20220121_164022.jpg  \n",
            "  inflating: Word/Salam/IMG_20220121_164023.jpg  \n",
            "  inflating: Word/Salam/IMG_20220121_164121.jpg  \n",
            "  inflating: Word/Salam/IMG_20220121_164124.jpg  \n",
            "  inflating: Word/Salam/IMG_20220121_164126.jpg  \n",
            "  inflating: Word/Salam/IMG_20220121_164137.jpg  \n",
            "  inflating: Word/Salam/IMG_20220121_164139.jpg  \n",
            "  inflating: Word/Salam/IMG_20220121_164148.jpg  \n",
            "  inflating: Word/Salam/IMG_20220121_164151.jpg  \n",
            "  inflating: Word/Salam/IMG_20220121_164152.jpg  \n",
            "  inflating: Word/Salam/IMG_20220121_164153.jpg  \n",
            "  inflating: Word/Salam/IMG_20220122_200307.jpg  \n",
            "  inflating: Word/Salam/IMG_20220122_200336.jpg  \n",
            "  inflating: Word/Salam/IMG_20220122_200423.jpg  \n",
            "  inflating: Word/Salam/IMG_20220122_200438.jpg  \n",
            "  inflating: Word/Salam/IMG_20220122_200450.jpg  \n",
            "  inflating: Word/Salam/IMG_20220122_200504.jpg  \n",
            "  inflating: Word/Salam/IMG_20220122_200516.jpg  \n",
            "  inflating: Word/Salam/IMG_20220122_200526.jpg  \n",
            "  inflating: Word/Salam/IMG_20220122_200553.jpg  \n",
            "  inflating: Word/Salam/IMG_20220122_200605.jpg  \n",
            "  inflating: Word/Salam/IMG_20220122_200616.jpg  \n",
            "  inflating: Word/Salam/IMG_20220122_200627.jpg  \n",
            "  inflating: Word/Salam/IMG_20220122_200637.jpg  \n",
            "  inflating: Word/Salam/IMG_20220122_200651.jpg  \n",
            "  inflating: Word/Salam/IMG_20220122_200703.jpg  \n",
            "  inflating: Word/Salam/IMG_20220122_200714.jpg  \n",
            "  inflating: Word/Salam/IMG_20220122_200723.jpg  \n",
            "  inflating: Word/Salam/IMG_20220122_200734.jpg  \n",
            "  inflating: Word/Salam/IMG_20220122_200745.jpg  \n",
            "  inflating: Word/Salam/IMG_20220122_200754.jpg  \n",
            "  inflating: Word/Salam/IMG_20220122_200802.jpg  \n",
            "  inflating: Word/Salam/IMG_20220122_200813.jpg  \n",
            "  inflating: Word/Salam/IMG_20220122_200822.jpg  \n",
            "  inflating: Word/Salam/IMG_20220122_200834.jpg  \n",
            "   creating: Word/Surprise/\n",
            "  inflating: Word/Surprise/IMG-20220122-WA0241.jpg  \n",
            "  inflating: Word/Surprise/IMG-20220122-WA0247.jpg  \n",
            "  inflating: Word/Surprise/IMG-20220122-WA0248.jpg  \n",
            "  inflating: Word/Surprise/IMG_20220121_172144.jpg  \n",
            "  inflating: Word/Surprise/IMG_20220121_172147.jpg  \n",
            "  inflating: Word/Surprise/IMG_20220121_172151.jpg  \n",
            "  inflating: Word/Surprise/IMG_20220121_172152_1.jpg  \n",
            "  inflating: Word/Surprise/IMG_20220121_172154.jpg  \n",
            "  inflating: Word/Surprise/IMG_20220121_172155.jpg  \n",
            "  inflating: Word/Surprise/IMG_20220121_172158.jpg  \n",
            "  inflating: Word/Surprise/IMG_20220121_172200.jpg  \n",
            "  inflating: Word/Surprise/IMG_20220121_172202.jpg  \n",
            "  inflating: Word/Surprise/IMG_20220121_172206.jpg  \n",
            "  inflating: Word/Surprise/IMG_20220121_172207.jpg  \n",
            "  inflating: Word/Surprise/IMG_20220121_172210.jpg  \n",
            "  inflating: Word/Surprise/IMG_20220121_172212.jpg  \n",
            "  inflating: Word/Surprise/IMG_20220121_172214.jpg  \n",
            "  inflating: Word/Surprise/IMG_20220121_172215.jpg  \n",
            "  inflating: Word/Surprise/IMG_20220121_172217.jpg  \n",
            "  inflating: Word/Surprise/IMG_20220121_172219.jpg  \n",
            "  inflating: Word/Surprise/IMG_20220121_172220.jpg  \n",
            "  inflating: Word/Surprise/IMG_20220121_172225.jpg  \n",
            "  inflating: Word/Surprise/IMG_20220121_172229.jpg  \n",
            "  inflating: Word/Surprise/IMG_20220121_172230.jpg  \n",
            "  inflating: Word/Surprise/IMG_20220121_172231.jpg  \n",
            "  inflating: Word/Surprise/IMG_20220121_172233.jpg  \n",
            "  inflating: Word/Surprise/IMG_20220121_172235.jpg  \n",
            "  inflating: Word/Surprise/IMG_20220121_172237.jpg  \n",
            "  inflating: Word/Surprise/IMG_20220121_172243.jpg  \n",
            "  inflating: Word/Surprise/IMG_20220121_172245.jpg  \n",
            "  inflating: Word/Surprise/IMG_20220121_172254.jpg  \n",
            "  inflating: Word/Surprise/IMG_20220121_172255.jpg  \n",
            "  inflating: Word/Surprise/IMG_20220121_172324.jpg  \n",
            "  inflating: Word/Surprise/IMG_20220121_172327.jpg  \n",
            "  inflating: Word/Surprise/IMG_20220121_172329.jpg  \n",
            "  inflating: Word/Surprise/IMG_20220121_172334.jpg  \n",
            "  inflating: Word/Surprise/IMG_20220121_172338.jpg  \n",
            "  inflating: Word/Surprise/IMG_20220121_172341.jpg  \n",
            "  inflating: Word/Surprise/IMG_20220121_172343.jpg  \n",
            "  inflating: Word/Surprise/IMG_20220121_172346.jpg  \n",
            "  inflating: Word/Surprise/IMG_20220121_172351.jpg  \n",
            "  inflating: Word/Surprise/IMG_20220121_172352.jpg  \n",
            "  inflating: Word/Surprise/IMG_20220121_172354.jpg  \n",
            "  inflating: Word/Surprise/IMG_20220121_172356.jpg  \n",
            "  inflating: Word/Surprise/IMG_20220121_172358.jpg  \n",
            "  inflating: Word/Surprise/IMG_20220121_172359.jpg  \n",
            "  inflating: Word/Surprise/IMG_20220121_172400.jpg  \n",
            "  inflating: Word/Surprise/IMG_20220121_172717.jpg  \n",
            "  inflating: Word/Surprise/IMG_20220121_172719.jpg  \n",
            "  inflating: Word/Surprise/IMG_20220121_172721.jpg  \n",
            "  inflating: Word/Surprise/IMG_20220121_172722.jpg  \n",
            "  inflating: Word/Surprise/IMG_20220121_172727.jpg  \n",
            "  inflating: Word/Surprise/IMG_20220121_172729.jpg  \n",
            "  inflating: Word/Surprise/IMG_20220121_172730.jpg  \n",
            "  inflating: Word/Surprise/IMG_20220121_172731.jpg  \n",
            "  inflating: Word/Surprise/IMG_20220121_172732.jpg  \n",
            "  inflating: Word/Surprise/IMG_20220121_172734.jpg  \n",
            "  inflating: Word/Surprise/IMG_20220121_172737.jpg  \n",
            "  inflating: Word/Surprise/IMG_20220121_172740.jpg  \n",
            "  inflating: Word/Surprise/IMG_20220121_172744.jpg  \n",
            "  inflating: Word/Surprise/IMG_20220121_172746.jpg  \n",
            "  inflating: Word/Surprise/IMG_20220121_172747.jpg  \n",
            "  inflating: Word/Surprise/IMG_20220121_172749.jpg  \n",
            "  inflating: Word/Surprise/IMG_20220121_172755.jpg  \n",
            "  inflating: Word/Surprise/IMG_20220121_172756.jpg  \n",
            "  inflating: Word/Surprise/IMG_20220121_172801.jpg  \n",
            "  inflating: Word/Surprise/IMG_20220121_172802.jpg  \n",
            "  inflating: Word/Surprise/IMG_20220121_172804.jpg  \n",
            "  inflating: Word/Surprise/IMG_20220121_172805.jpg  \n",
            "  inflating: Word/Surprise/IMG_20220121_172807.jpg  \n",
            "  inflating: Word/Surprise/IMG_20220121_172811.jpg  \n",
            "  inflating: Word/Surprise/IMG_20220121_172819.jpg  \n",
            "  inflating: Word/Surprise/IMG_20220121_172821.jpg  \n",
            "  inflating: Word/Surprise/IMG_20220121_172832.jpg  \n",
            "  inflating: Word/Surprise/IMG_20220121_172834.jpg  \n",
            "  inflating: Word/Surprise/IMG_20220121_172836.jpg  \n",
            "  inflating: Word/Surprise/IMG_20220121_172838.jpg  \n",
            "  inflating: Word/Surprise/IMG_20220121_172841.jpg  \n",
            "  inflating: Word/Surprise/IMG_20220122_223627.jpg  \n",
            "  inflating: Word/Surprise/IMG_20220122_223639.jpg  \n",
            "  inflating: Word/Surprise/IMG_20220122_223650.jpg  \n",
            "  inflating: Word/Surprise/IMG_20220122_223701.jpg  \n",
            "  inflating: Word/Surprise/IMG_20220122_223711.jpg  \n",
            "  inflating: Word/Surprise/IMG_20220122_223731.jpg  \n",
            "  inflating: Word/Surprise/IMG_20220122_223740.jpg  \n",
            "  inflating: Word/Surprise/IMG_20220122_223751.jpg  \n",
            "  inflating: Word/Surprise/IMG_20220122_223759.jpg  \n",
            "  inflating: Word/Surprise/IMG_20220122_223807.jpg  \n",
            "  inflating: Word/Surprise/IMG_20220122_223819.jpg  \n",
            "  inflating: Word/Surprise/IMG_20220122_223831.jpg  \n",
            "  inflating: Word/Surprise/IMG_20220122_223904.jpg  \n",
            "  inflating: Word/Surprise/IMG_20220122_223930.jpg  \n",
            "  inflating: Word/Surprise/IMG_20220122_223940.jpg  \n",
            "  inflating: Word/Surprise/IMG_20220122_223950.jpg  \n",
            "  inflating: Word/Surprise/IMG_20220122_224014.jpg  \n",
            "  inflating: Word/Surprise/IMG_20220122_224027.jpg  \n",
            "  inflating: Word/Surprise/IMG_20220122_224225.jpg  \n",
            "  inflating: Word/Surprise/IMG_20220122_224306.jpg  \n",
            "  inflating: Word/Surprise/IMG_20220122_224358.jpg  \n",
            "  inflating: Word/Surprise/IMG_20220122_224412.jpg  \n",
            "   creating: Word/They/\n",
            "  inflating: Word/They/IMG-20220122-WA0090.jpg  \n",
            "  inflating: Word/They/IMG-20220122-WA0091.jpg  \n",
            "  inflating: Word/They/IMG-20220122-WA0092.jpg  \n",
            "  inflating: Word/They/IMG-20220122-WA0093.jpg  \n",
            "  inflating: Word/They/IMG-20220122-WA0094.jpg  \n",
            "  inflating: Word/They/IMG-20220122-WA0199.jpg  \n",
            "  inflating: Word/They/IMG_20220121_170438.jpg  \n",
            "  inflating: Word/They/IMG_20220121_170440.jpg  \n",
            "  inflating: Word/They/IMG_20220121_170441.jpg  \n",
            "  inflating: Word/They/IMG_20220121_170442.jpg  \n",
            "  inflating: Word/They/IMG_20220121_170443.jpg  \n",
            "  inflating: Word/They/IMG_20220121_170446.jpg  \n",
            "  inflating: Word/They/IMG_20220121_170447.jpg  \n",
            "  inflating: Word/They/IMG_20220121_170448.jpg  \n",
            "  inflating: Word/They/IMG_20220121_170450.jpg  \n",
            "  inflating: Word/They/IMG_20220121_170452.jpg  \n",
            "  inflating: Word/They/IMG_20220121_170453.jpg  \n",
            "  inflating: Word/They/IMG_20220121_170454.jpg  \n",
            "  inflating: Word/They/IMG_20220121_170457.jpg  \n",
            "  inflating: Word/They/IMG_20220121_170502.jpg  \n",
            "  inflating: Word/They/IMG_20220121_170504.jpg  \n",
            "  inflating: Word/They/IMG_20220121_170506.jpg  \n",
            "  inflating: Word/They/IMG_20220121_170507.jpg  \n",
            "  inflating: Word/They/IMG_20220121_170508.jpg  \n",
            "  inflating: Word/They/IMG_20220121_170509.jpg  \n",
            "  inflating: Word/They/IMG_20220121_170512.jpg  \n",
            "  inflating: Word/They/IMG_20220121_170514.jpg  \n",
            "  inflating: Word/They/IMG_20220121_170515.jpg  \n",
            "  inflating: Word/They/IMG_20220121_170516.jpg  \n",
            "  inflating: Word/They/IMG_20220121_170518.jpg  \n",
            "  inflating: Word/They/IMG_20220121_170519.jpg  \n",
            "  inflating: Word/They/IMG_20220121_170520.jpg  \n",
            "  inflating: Word/They/IMG_20220121_170522.jpg  \n",
            "  inflating: Word/They/IMG_20220121_170527.jpg  \n",
            "  inflating: Word/They/IMG_20220121_170530.jpg  \n",
            "  inflating: Word/They/IMG_20220121_170531.jpg  \n",
            "  inflating: Word/They/IMG_20220121_170541.jpg  \n",
            "  inflating: Word/They/IMG_20220121_170552.jpg  \n",
            "  inflating: Word/They/IMG_20220121_170556.jpg  \n",
            "  inflating: Word/They/IMG_20220121_170557.jpg  \n",
            "  inflating: Word/They/IMG_20220121_170604.jpg  \n",
            "  inflating: Word/They/IMG_20220121_170636.jpg  \n",
            "  inflating: Word/They/IMG_20220121_170643.jpg  \n",
            "  inflating: Word/They/IMG_20220121_170644.jpg  \n",
            "  inflating: Word/They/IMG_20220121_170645.jpg  \n",
            "  inflating: Word/They/IMG_20220121_170646.jpg  \n",
            "  inflating: Word/They/IMG_20220121_170648.jpg  \n",
            "  inflating: Word/They/IMG_20220121_170649.jpg  \n",
            "  inflating: Word/They/IMG_20220121_170650.jpg  \n",
            "  inflating: Word/They/IMG_20220121_170651.jpg  \n",
            "  inflating: Word/They/IMG_20220121_170653.jpg  \n",
            "  inflating: Word/They/IMG_20220121_170654.jpg  \n",
            "  inflating: Word/They/IMG_20220121_170657.jpg  \n",
            "  inflating: Word/They/IMG_20220121_170700.jpg  \n",
            "  inflating: Word/They/IMG_20220121_170701.jpg  \n",
            "  inflating: Word/They/IMG_20220121_170702.jpg  \n",
            "  inflating: Word/They/IMG_20220121_170703.jpg  \n",
            "  inflating: Word/They/IMG_20220121_170704.jpg  \n",
            "  inflating: Word/They/IMG_20220121_170705.jpg  \n",
            "  inflating: Word/They/IMG_20220121_170708.jpg  \n",
            "  inflating: Word/They/IMG_20220121_170709.jpg  \n",
            "  inflating: Word/They/IMG_20220121_170712.jpg  \n",
            "  inflating: Word/They/IMG_20220121_170718.jpg  \n",
            "  inflating: Word/They/IMG_20220121_170719.jpg  \n",
            "  inflating: Word/They/IMG_20220121_170722.jpg  \n",
            "  inflating: Word/They/IMG_20220121_170723.jpg  \n",
            "  inflating: Word/They/IMG_20220121_170737.jpg  \n",
            "  inflating: Word/They/IMG_20220121_170738.jpg  \n",
            "  inflating: Word/They/IMG_20220121_170741.jpg  \n",
            "  inflating: Word/They/IMG_20220121_170747.jpg  \n",
            "  inflating: Word/They/IMG_20220121_170749.jpg  \n",
            "  inflating: Word/They/IMG_20220121_170750.jpg  \n",
            "  inflating: Word/They/IMG_20220121_170751.jpg  \n",
            "  inflating: Word/They/IMG_20220121_170752.jpg  \n",
            "  inflating: Word/They/IMG_20220121_170754.jpg  \n",
            "  inflating: Word/They/IMG_20220121_170756.jpg  \n",
            "  inflating: Word/They/IMG_20220121_170758.jpg  \n",
            "  inflating: Word/They/IMG_20220121_170800.jpg  \n",
            "  inflating: Word/They/IMG_20220121_170801.jpg  \n",
            "  inflating: Word/They/IMG_20220121_170802.jpg  \n",
            "  inflating: Word/They/IMG_20220121_170803.jpg  \n",
            "  inflating: Word/They/IMG_20220122_214445.jpg  \n",
            "  inflating: Word/They/IMG_20220122_214456.jpg  \n",
            "  inflating: Word/They/IMG_20220122_214510.jpg  \n",
            "  inflating: Word/They/IMG_20220122_214520.jpg  \n",
            "  inflating: Word/They/IMG_20220122_214535.jpg  \n",
            "  inflating: Word/They/IMG_20220122_214547.jpg  \n",
            "  inflating: Word/They/IMG_20220122_214556.jpg  \n",
            "  inflating: Word/They/IMG_20220122_214606.jpg  \n",
            "  inflating: Word/They/IMG_20220122_214616.jpg  \n",
            "  inflating: Word/They/IMG_20220122_214626.jpg  \n",
            "  inflating: Word/They/IMG_20220122_214633.jpg  \n",
            "  inflating: Word/They/IMG_20220122_214642.jpg  \n",
            "  inflating: Word/They/IMG_20220122_214651.jpg  \n",
            "  inflating: Word/They/IMG_20220122_214704.jpg  \n",
            "  inflating: Word/They/IMG_20220122_214859.jpg  \n",
            "  inflating: Word/They/IMG_20220122_214908.jpg  \n",
            "   creating: Word/Think/\n",
            "  inflating: Word/Think/IMG-20220122-WA0000.jpg  \n",
            "  inflating: Word/Think/IMG-20220122-WA0001.jpg  \n",
            "  inflating: Word/Think/IMG-20220122-WA0002.jpg  \n",
            "  inflating: Word/Think/IMG-20220122-WA0003.jpg  \n",
            "  inflating: Word/Think/IMG-20220122-WA0004.jpg  \n",
            "  inflating: Word/Think/IMG-20220122-WA0005.jpg  \n",
            "  inflating: Word/Think/IMG-20220122-WA0006.jpg  \n",
            "  inflating: Word/Think/IMG-20220122-WA0007.jpg  \n",
            "  inflating: Word/Think/IMG-20220122-WA0008.jpg  \n",
            "  inflating: Word/Think/IMG-20220122-WA0009.jpg  \n",
            "  inflating: Word/Think/IMG-20220122-WA0010.jpg  \n",
            "  inflating: Word/Think/IMG-20220122-WA0011.jpg  \n",
            "  inflating: Word/Think/IMG-20220122-WA0012.jpg  \n",
            "  inflating: Word/Think/IMG-20220122-WA0013.jpg  \n",
            "  inflating: Word/Think/IMG-20220122-WA0014.jpg  \n",
            "  inflating: Word/Think/IMG-20220122-WA0015.jpg  \n",
            "  inflating: Word/Think/IMG-20220122-WA0016.jpg  \n",
            "  inflating: Word/Think/IMG-20220122-WA0017.jpg  \n",
            "  inflating: Word/Think/IMG-20220122-WA0018.jpg  \n",
            "  inflating: Word/Think/IMG-20220122-WA0019.jpg  \n",
            "  inflating: Word/Think/IMG-20220122-WA0020.jpg  \n",
            "  inflating: Word/Think/IMG-20220122-WA0022.jpg  \n",
            "  inflating: Word/Think/IMG-20220122-WA0142.jpg  \n",
            "  inflating: Word/Think/IMG-20220122-WA0143.jpg  \n",
            "  inflating: Word/Think/IMG-20220122-WA0172.jpg  \n",
            "  inflating: Word/Think/IMG-20220122-WA0173.jpg  \n",
            "  inflating: Word/Think/IMG-20220122-WA0174.jpg  \n",
            "  inflating: Word/Think/IMG-20220122-WA0175.jpg  \n",
            "  inflating: Word/Think/IMG-20220122-WA0176.jpg  \n",
            "  inflating: Word/Think/IMG-20220122-WA0177.jpg  \n",
            "  inflating: Word/Think/IMG_20220121_183208.jpg  \n",
            "  inflating: Word/Think/IMG_20220121_183210.jpg  \n",
            "  inflating: Word/Think/IMG_20220121_183213.jpg  \n",
            "  inflating: Word/Think/IMG_20220121_183214.jpg  \n",
            "  inflating: Word/Think/IMG_20220121_183215.jpg  \n",
            "  inflating: Word/Think/IMG_20220121_183219.jpg  \n",
            "  inflating: Word/Think/IMG_20220121_183220.jpg  \n",
            "  inflating: Word/Think/IMG_20220121_183221.jpg  \n",
            "  inflating: Word/Think/IMG_20220121_183225.jpg  \n",
            "  inflating: Word/Think/IMG_20220121_183228.jpg  \n",
            "  inflating: Word/Think/IMG_20220121_183229.jpg  \n",
            "  inflating: Word/Think/IMG_20220121_183230.jpg  \n",
            "  inflating: Word/Think/IMG_20220121_183231.jpg  \n",
            "  inflating: Word/Think/IMG_20220121_183235.jpg  \n",
            "  inflating: Word/Think/IMG_20220121_183236.jpg  \n",
            "  inflating: Word/Think/IMG_20220121_183239.jpg  \n",
            "  inflating: Word/Think/IMG_20220121_183241.jpg  \n",
            "  inflating: Word/Think/IMG_20220121_183243_1.jpg  \n",
            "  inflating: Word/Think/IMG_20220121_183244.jpg  \n",
            "  inflating: Word/Think/IMG_20220121_183249_1.jpg  \n",
            "  inflating: Word/Think/IMG_20220121_183250.jpg  \n",
            "  inflating: Word/Think/IMG_20220121_183251.jpg  \n",
            "  inflating: Word/Think/IMG_20220121_183255.jpg  \n",
            "  inflating: Word/Think/IMG_20220121_183258.jpg  \n",
            "  inflating: Word/Think/IMG_20220121_183259.jpg  \n",
            "  inflating: Word/Think/IMG_20220121_183259_1.jpg  \n",
            "  inflating: Word/Think/IMG_20220121_183300.jpg  \n",
            "  inflating: Word/Think/IMG_20220121_183301.jpg  \n",
            "  inflating: Word/Think/IMG_20220121_183302.jpg  \n",
            "  inflating: Word/Think/IMG_20220121_183304.jpg  \n",
            "  inflating: Word/Think/IMG_20220121_183306.jpg  \n",
            "  inflating: Word/Think/IMG_20220121_183306_1.jpg  \n",
            "  inflating: Word/Think/IMG_20220121_183308.jpg  \n",
            "  inflating: Word/Think/IMG_20220121_183309.jpg  \n",
            "  inflating: Word/Think/IMG_20220121_183310.jpg  \n",
            "  inflating: Word/Think/IMG_20220121_183311.jpg  \n",
            "  inflating: Word/Think/IMG_20220121_183312.jpg  \n",
            "  inflating: Word/Think/IMG_20220121_183313.jpg  \n",
            "  inflating: Word/Think/IMG_20220121_183314.jpg  \n",
            "  inflating: Word/Think/IMG_20220121_183317.jpg  \n",
            "  inflating: Word/Think/IMG_20220121_183321.jpg  \n",
            "  inflating: Word/Think/IMG_20220121_183335.jpg  \n",
            "  inflating: Word/Think/IMG_20220121_183337.jpg  \n",
            "  inflating: Word/Think/IMG_20220121_183419.jpg  \n",
            "  inflating: Word/Think/IMG_20220121_183421.jpg  \n",
            "  inflating: Word/Think/IMG_20220121_183422.jpg  \n",
            "  inflating: Word/Think/IMG_20220121_183424.jpg  \n",
            "  inflating: Word/Think/IMG_20220121_183425.jpg  \n",
            "  inflating: Word/Think/IMG_20220121_183426.jpg  \n",
            "  inflating: Word/Think/IMG_20220121_183428.jpg  \n",
            "  inflating: Word/Think/IMG_20220121_183429.jpg  \n",
            "  inflating: Word/Think/IMG_20220121_183432_1.jpg  \n",
            "  inflating: Word/Think/IMG_20220121_183433.jpg  \n",
            "  inflating: Word/Think/IMG_20220121_183435.jpg  \n",
            "  inflating: Word/Think/IMG_20220121_183435_1.jpg  \n",
            "  inflating: Word/Think/IMG_20220121_183438.jpg  \n",
            "  inflating: Word/Think/IMG_20220121_183439.jpg  \n",
            "  inflating: Word/Think/IMG_20220121_183440.jpg  \n",
            "  inflating: Word/Think/IMG_20220121_183441.jpg  \n",
            "  inflating: Word/Think/IMG_20220121_183443.jpg  \n",
            "  inflating: Word/Think/IMG_20220121_183444.jpg  \n",
            "  inflating: Word/Think/IMG_20220121_183447.jpg  \n",
            "  inflating: Word/Think/IMG_20220121_183452.jpg  \n",
            "  inflating: Word/Think/IMG_20220121_183453.jpg  \n",
            "  inflating: Word/Think/IMG_20220121_183459.jpg  \n",
            "  inflating: Word/Think/IMG_20220121_183502_1.jpg  \n",
            "  inflating: Word/Think/IMG_20220121_183503.jpg  \n",
            "  inflating: Word/Think/IMG_20220121_183505.jpg  \n",
            "  inflating: Word/Think/IMG_20220121_183517.jpg  \n",
            "  inflating: Word/Think/IMG_20220121_183525.jpg  \n",
            "  inflating: Word/Think/IMG_20220121_183535.jpg  \n",
            "  inflating: Word/Think/IMG_20220121_183537.jpg  \n",
            "  inflating: Word/Think/IMG_20220121_183538.jpg  \n",
            "  inflating: Word/Think/IMG_20220121_183545.jpg  \n",
            "  inflating: Word/Think/IMG_20220121_183548.jpg  \n",
            "  inflating: Word/Think/IMG_20220121_183550.jpg  \n",
            "   creating: Word/You/\n",
            "  inflating: Word/You/IMG-20220122-WA0193.jpg  \n",
            "  inflating: Word/You/IMG_20220121_170850.jpg  \n",
            "  inflating: Word/You/IMG_20220121_170852.jpg  \n",
            "  inflating: Word/You/IMG_20220121_170854.jpg  \n",
            "  inflating: Word/You/IMG_20220121_170859.jpg  \n",
            "  inflating: Word/You/IMG_20220121_170901.jpg  \n",
            "  inflating: Word/You/IMG_20220121_170910.jpg  \n",
            "  inflating: Word/You/IMG_20220121_170911.jpg  \n",
            "  inflating: Word/You/IMG_20220121_170912.jpg  \n",
            "  inflating: Word/You/IMG_20220121_170913.jpg  \n",
            "  inflating: Word/You/IMG_20220121_170914.jpg  \n",
            "  inflating: Word/You/IMG_20220121_170917.jpg  \n",
            "  inflating: Word/You/IMG_20220121_170918.jpg  \n",
            "  inflating: Word/You/IMG_20220121_170920.jpg  \n",
            "  inflating: Word/You/IMG_20220121_170925.jpg  \n",
            "  inflating: Word/You/IMG_20220121_170929.jpg  \n",
            "  inflating: Word/You/IMG_20220121_170936.jpg  \n",
            "  inflating: Word/You/IMG_20220121_170937.jpg  \n",
            "  inflating: Word/You/IMG_20220121_170940.jpg  \n",
            "  inflating: Word/You/IMG_20220121_170941.jpg  \n",
            "  inflating: Word/You/IMG_20220121_170954.jpg  \n",
            "  inflating: Word/You/IMG_20220121_170955.jpg  \n",
            "  inflating: Word/You/IMG_20220121_170956.jpg  \n",
            "  inflating: Word/You/IMG_20220121_170957.jpg  \n",
            "  inflating: Word/You/IMG_20220121_171003.jpg  \n",
            "  inflating: Word/You/IMG_20220121_171004.jpg  \n",
            "  inflating: Word/You/IMG_20220121_171006.jpg  \n",
            "  inflating: Word/You/IMG_20220121_171007.jpg  \n",
            "  inflating: Word/You/IMG_20220121_171039.jpg  \n",
            "  inflating: Word/You/IMG_20220121_171043.jpg  \n",
            "  inflating: Word/You/IMG_20220121_171045_1.jpg  \n",
            "  inflating: Word/You/IMG_20220121_171049.jpg  \n",
            "  inflating: Word/You/IMG_20220121_171050.jpg  \n",
            "  inflating: Word/You/IMG_20220121_171057.jpg  \n",
            "  inflating: Word/You/IMG_20220121_171058.jpg  \n",
            "  inflating: Word/You/IMG_20220121_171100.jpg  \n",
            "  inflating: Word/You/IMG_20220121_171102.jpg  \n",
            "  inflating: Word/You/IMG_20220121_171104.jpg  \n",
            "  inflating: Word/You/IMG_20220121_171106.jpg  \n",
            "  inflating: Word/You/IMG_20220121_171107.jpg  \n",
            "  inflating: Word/You/IMG_20220121_171109.jpg  \n",
            "  inflating: Word/You/IMG_20220121_171110.jpg  \n",
            "  inflating: Word/You/IMG_20220121_171111.jpg  \n",
            "  inflating: Word/You/IMG_20220121_171112.jpg  \n",
            "  inflating: Word/You/IMG_20220121_171113.jpg  \n",
            "  inflating: Word/You/IMG_20220121_171132.jpg  \n",
            "  inflating: Word/You/IMG_20220121_171133.jpg  \n",
            "  inflating: Word/You/IMG_20220121_171134.jpg  \n",
            "  inflating: Word/You/IMG_20220121_171135.jpg  \n",
            "  inflating: Word/You/IMG_20220121_171136.jpg  \n",
            "  inflating: Word/You/IMG_20220121_171137.jpg  \n",
            "  inflating: Word/You/IMG_20220121_171138.jpg  \n",
            "  inflating: Word/You/IMG_20220121_171139.jpg  \n",
            "  inflating: Word/You/IMG_20220121_171144.jpg  \n",
            "  inflating: Word/You/IMG_20220121_171145.jpg  \n",
            "  inflating: Word/You/IMG_20220121_171146.jpg  \n",
            "  inflating: Word/You/IMG_20220121_171147.jpg  \n",
            "  inflating: Word/You/IMG_20220121_171148.jpg  \n",
            "  inflating: Word/You/IMG_20220121_171205.jpg  \n",
            "  inflating: Word/You/IMG_20220121_171206.jpg  \n",
            "  inflating: Word/You/IMG_20220121_171214.jpg  \n",
            "  inflating: Word/You/IMG_20220121_171215.jpg  \n",
            "  inflating: Word/You/IMG_20220121_171216.jpg  \n",
            "  inflating: Word/You/IMG_20220121_171217.jpg  \n",
            "  inflating: Word/You/IMG_20220121_171224.jpg  \n",
            "  inflating: Word/You/IMG_20220121_171225.jpg  \n",
            "  inflating: Word/You/IMG_20220121_171226.jpg  \n",
            "  inflating: Word/You/IMG_20220121_171229.jpg  \n",
            "  inflating: Word/You/IMG_20220121_171231.jpg  \n",
            "  inflating: Word/You/IMG_20220121_171233.jpg  \n",
            "  inflating: Word/You/IMG_20220121_171234.jpg  \n",
            "  inflating: Word/You/IMG_20220121_171237.jpg  \n",
            "  inflating: Word/You/IMG_20220121_171238.jpg  \n",
            "  inflating: Word/You/IMG_20220121_171239.jpg  \n",
            "  inflating: Word/You/IMG_20220121_171240.jpg  \n",
            "  inflating: Word/You/IMG_20220121_171247.jpg  \n",
            "  inflating: Word/You/IMG_20220121_171248.jpg  \n",
            "  inflating: Word/You/IMG_20220121_171251.jpg  \n",
            "  inflating: Word/You/IMG_20220122_213844.jpg  \n",
            "  inflating: Word/You/IMG_20220122_213856.jpg  \n",
            "  inflating: Word/You/IMG_20220122_213907.jpg  \n",
            "  inflating: Word/You/IMG_20220122_213918.jpg  \n",
            "  inflating: Word/You/IMG_20220122_213930.jpg  \n",
            "  inflating: Word/You/IMG_20220122_213942.jpg  \n",
            "  inflating: Word/You/IMG_20220122_213952.jpg  \n",
            "  inflating: Word/You/IMG_20220122_214055.jpg  \n",
            "  inflating: Word/You/IMG_20220122_214107.jpg  \n",
            "  inflating: Word/You/IMG_20220122_214122.jpg  \n",
            "  inflating: Word/You/IMG_20220122_214132.jpg  \n",
            "  inflating: Word/You/IMG_20220122_214419.jpg  \n",
            "  inflating: Word/You/IMG_20220122_214427.jpg  \n",
            "  inflating: Word/You/IMG_20220122_214736.jpg  \n",
            "  inflating: Word/You/IMG_20220122_214743.jpg  \n",
            "  inflating: Word/You/IMG_20220122_214750.jpg  \n",
            "  inflating: Word/You/IMG_20220122_214821.jpg  \n",
            "  inflating: Word/You/IMG_20220122_214830.jpg  \n",
            "  inflating: Word/You/IMG_20220122_214840.jpg  \n",
            "  inflating: Word/You/IMG_20220122_214849.jpg  \n"
          ]
        }
      ],
      "source": [
        "!unzip \"/content/drive/MyDrive/Sign Language Project/BdSL_Word_Eng.zip\""
      ]
    },
    {
      "cell_type": "code",
      "execution_count": null,
      "metadata": {
        "id": "bHuaeinlasbv"
      },
      "outputs": [],
      "source": [
        "import numpy as np \n",
        "import pandas as pd\n",
        "import os\n",
        "import tensorflow as tf\n",
        "from tensorflow import keras\n",
        "from tensorflow.keras import layers\n",
        "from tensorflow.keras.models import Sequential\n",
        "from keras import backend as K\n",
        "from keras.models import Sequential\n",
        "from keras.layers import Dense\n",
        "from keras.preprocessing.image import ImageDataGenerator\n",
        "from tensorflow.keras.optimizers import Adam\n",
        "from tensorflow.keras.utils import to_categorical\n",
        "from keras.callbacks import ModelCheckpoint\n",
        "from keras.applications import resnet\n",
        "from keras.applications.vgg16 import VGG16\n",
        "from keras.models import Model\n",
        "from keras.layers import Dense,Flatten,Conv2D,MaxPool2D,Dropout\n",
        "from keras.layers import Conv2D\n",
        "\n",
        "from keras.layers import MaxPooling2D"
      ]
    },
    {
      "cell_type": "code",
      "execution_count": null,
      "metadata": {
        "id": "fU2dnjG9bRjh"
      },
      "outputs": [],
      "source": [
        "# input path for the images\n",
        "base_path = '/content/Word'"
      ]
    },
    {
      "cell_type": "code",
      "execution_count": null,
      "metadata": {
        "id": "VSNVKhj6bd6h"
      },
      "outputs": [],
      "source": [
        "SIZE=64\n",
        "image_size = (SIZE, SIZE)\n",
        "batch_size = 32\n",
        "channels = 3\n",
        "kernel = 4\n",
        "stride = 1\n",
        "pool = 2"
      ]
    },
    {
      "cell_type": "code",
      "execution_count": null,
      "metadata": {
        "colab": {
          "base_uri": "https://localhost:8080/"
        },
        "id": "F-F_ZfSebegz",
        "outputId": "3143fccb-29d4-4be8-8d37-8eaf43dbf838"
      },
      "outputs": [
        {
          "output_type": "stream",
          "name": "stdout",
          "text": [
            "Found 992 files belonging to 10 classes.\n",
            "Using 794 files for training.\n",
            "Found 992 files belonging to 10 classes.\n",
            "Using 198 files for validation.\n"
          ]
        }
      ],
      "source": [
        "train_ds = tf.keras.preprocessing.image_dataset_from_directory(\n",
        "    base_path,\n",
        "    validation_split=0.2,\n",
        "    subset=\"training\",\n",
        "    seed=42,\n",
        "    image_size=image_size,\n",
        "    batch_size=batch_size,\n",
        ")\n",
        "val_ds = tf.keras.preprocessing.image_dataset_from_directory(\n",
        "    base_path,\n",
        "    validation_split=0.2,\n",
        "    subset=\"validation\",\n",
        "    seed=42,\n",
        "    image_size=image_size,\n",
        "    batch_size=batch_size,\n",
        ")"
      ]
    },
    {
      "cell_type": "code",
      "execution_count": null,
      "metadata": {
        "id": "k9zGDbUebjsh"
      },
      "outputs": [],
      "source": [
        "class_names = train_ds.class_names\n",
        "num_classes = len(class_names)"
      ]
    },
    {
      "cell_type": "markdown",
      "metadata": {
        "id": "q_o3nZQpbyk3"
      },
      "source": [
        "# Modified CNN"
      ]
    },
    {
      "cell_type": "code",
      "execution_count": null,
      "metadata": {
        "id": "U_7UH7CLbwYC"
      },
      "outputs": [],
      "source": [
        "model=Sequential()\n",
        "\n",
        "model.add(Conv2D(16,kernel_size=kernel,strides=stride,padding='same',activation='relu',input_shape=(SIZE, SIZE, channels)))\n",
        "\n",
        "model.add(MaxPool2D(pool_size=pool,strides=2,padding='same'))\n",
        "\n",
        "model.add(Conv2D(32,kernel_size=kernel,strides=stride,activation='relu',padding='same'))\n",
        "\n",
        "model.add(MaxPool2D((pool),2,padding='same'))\n",
        "\n",
        "model.add(Conv2D(64,kernel_size=kernel,strides=stride,activation='relu',padding='same'))\n",
        "\n",
        "model.add(MaxPool2D((pool),2,padding='same'))\n",
        "          \n",
        "model.add(Flatten())\n",
        "\n",
        "model.add(Dense(units=128,activation='relu'))\n",
        "model.add(Dense(units=num_classes,activation='softmax'))"
      ]
    },
    {
      "cell_type": "code",
      "execution_count": null,
      "metadata": {
        "colab": {
          "base_uri": "https://localhost:8080/"
        },
        "id": "UnwQmaBFb2s8",
        "outputId": "c2add3cb-9669-4908-b996-ba4aa728d712"
      },
      "outputs": [
        {
          "output_type": "stream",
          "name": "stdout",
          "text": [
            "Model: \"sequential\"\n",
            "_________________________________________________________________\n",
            " Layer (type)                Output Shape              Param #   \n",
            "=================================================================\n",
            " conv2d (Conv2D)             (None, 64, 64, 16)        784       \n",
            "                                                                 \n",
            " max_pooling2d (MaxPooling2D  (None, 32, 32, 16)       0         \n",
            " )                                                               \n",
            "                                                                 \n",
            " conv2d_1 (Conv2D)           (None, 32, 32, 32)        8224      \n",
            "                                                                 \n",
            " max_pooling2d_1 (MaxPooling  (None, 16, 16, 32)       0         \n",
            " 2D)                                                             \n",
            "                                                                 \n",
            " conv2d_2 (Conv2D)           (None, 16, 16, 64)        32832     \n",
            "                                                                 \n",
            " max_pooling2d_2 (MaxPooling  (None, 8, 8, 64)         0         \n",
            " 2D)                                                             \n",
            "                                                                 \n",
            " flatten (Flatten)           (None, 4096)              0         \n",
            "                                                                 \n",
            " dense (Dense)               (None, 128)               524416    \n",
            "                                                                 \n",
            " dense_1 (Dense)             (None, 10)                1290      \n",
            "                                                                 \n",
            "=================================================================\n",
            "Total params: 567,546\n",
            "Trainable params: 567,546\n",
            "Non-trainable params: 0\n",
            "_________________________________________________________________\n"
          ]
        }
      ],
      "source": [
        "model.compile(loss=tf.keras.losses.SparseCategoricalCrossentropy(from_logits=True), optimizer='adam', metrics=['accuracy'])\n",
        "model.summary()"
      ]
    },
    {
      "cell_type": "code",
      "execution_count": null,
      "metadata": {
        "id": "WoRRHl8Hb4-r"
      },
      "outputs": [],
      "source": [
        "model_checkpoint = tf.keras.callbacks.ModelCheckpoint(\n",
        "    filepath='checkpoint.h5',\n",
        "    save_weights_only=True,\n",
        "    monitor='val_accuracy',\n",
        "    mode='max',\n",
        "    save_best_only=True)"
      ]
    },
    {
      "cell_type": "code",
      "execution_count": null,
      "metadata": {
        "colab": {
          "base_uri": "https://localhost:8080/"
        },
        "id": "K03emzj3b78v",
        "outputId": "c0a8f0f4-9081-4f7d-ba2f-3fff7c4d0dcf"
      },
      "outputs": [
        {
          "output_type": "stream",
          "name": "stdout",
          "text": [
            "Epoch 1/10\n"
          ]
        },
        {
          "output_type": "stream",
          "name": "stderr",
          "text": [
            "/usr/local/lib/python3.7/dist-packages/tensorflow/python/util/dispatch.py:1082: UserWarning: \"`sparse_categorical_crossentropy` received `from_logits=True`, but the `output` argument was produced by a sigmoid or softmax activation and thus does not represent logits. Was this intended?\"\n",
            "  return dispatch_target(*args, **kwargs)\n"
          ]
        },
        {
          "output_type": "stream",
          "name": "stdout",
          "text": [
            "25/25 [==============================] - 47s 1s/step - loss: 19.3667 - accuracy: 0.1499 - val_loss: 2.1448 - val_accuracy: 0.2727\n",
            "Epoch 2/10\n",
            "25/25 [==============================] - 36s 1s/step - loss: 1.6025 - accuracy: 0.4572 - val_loss: 1.5071 - val_accuracy: 0.5101\n",
            "Epoch 3/10\n",
            "25/25 [==============================] - 36s 1s/step - loss: 0.9501 - accuracy: 0.6814 - val_loss: 1.0001 - val_accuracy: 0.6818\n",
            "Epoch 4/10\n",
            "25/25 [==============================] - 36s 1s/step - loss: 0.5133 - accuracy: 0.8413 - val_loss: 0.8453 - val_accuracy: 0.7020\n",
            "Epoch 5/10\n",
            "25/25 [==============================] - 36s 1s/step - loss: 0.2863 - accuracy: 0.9055 - val_loss: 0.8285 - val_accuracy: 0.7475\n",
            "Epoch 6/10\n",
            "25/25 [==============================] - 36s 1s/step - loss: 0.1976 - accuracy: 0.9395 - val_loss: 0.9896 - val_accuracy: 0.7222\n",
            "Epoch 7/10\n",
            "25/25 [==============================] - 36s 1s/step - loss: 0.1989 - accuracy: 0.9358 - val_loss: 0.9134 - val_accuracy: 0.7626\n",
            "Epoch 8/10\n",
            "25/25 [==============================] - 36s 1s/step - loss: 0.1237 - accuracy: 0.9635 - val_loss: 0.7052 - val_accuracy: 0.7980\n",
            "Epoch 9/10\n",
            "25/25 [==============================] - 36s 1s/step - loss: 0.0899 - accuracy: 0.9673 - val_loss: 0.9889 - val_accuracy: 0.8131\n",
            "Epoch 10/10\n",
            "25/25 [==============================] - 36s 1s/step - loss: 0.0778 - accuracy: 0.9861 - val_loss: 0.8612 - val_accuracy: 0.7929\n"
          ]
        }
      ],
      "source": [
        "history = model.fit( train_ds, epochs=10, callbacks=model_checkpoint, validation_data=val_ds, )"
      ]
    },
    {
      "cell_type": "code",
      "execution_count": null,
      "metadata": {
        "id": "bU9d6bPaoS5K"
      },
      "outputs": [],
      "source": [
        "#save the model for predictions\n",
        "model.save('/content/drive/MyDrive/Sign Language Project/bdsl_word_eng_CNN.h5')"
      ]
    },
    {
      "cell_type": "code",
      "execution_count": null,
      "metadata": {
        "colab": {
          "base_uri": "https://localhost:8080/",
          "height": 458
        },
        "id": "ywVB24JzonKw",
        "outputId": "e76f343d-6f63-40ec-e510-21c0567fd50c"
      },
      "outputs": [
        {
          "output_type": "display_data",
          "data": {
            "text/plain": [
              "<Figure size 1008x504 with 1 Axes>"
            ],
            "image/png": "[encoded data removed]"
          },
          "metadata": {
            "needs_background": "light"
          }
        }
      ],
      "source": [
        "# Validation and Training accuracy plot\n",
        "import matplotlib.pyplot as plt\n",
        "\n",
        "acc=history.history['accuracy']\n",
        "val_acc=history.history['val_accuracy']\n",
        "loss=history.history['loss']\n",
        "val_loss=history.history['val_loss']\n",
        "\n",
        "epochs=range(len(acc))\n",
        "\n",
        "fig = plt.figure(figsize=(14,7))\n",
        "plt.plot(epochs, acc, 'r', label=\"Training Accuracy\")\n",
        "plt.plot(epochs, val_acc, 'b', label=\"Validation Accuracy\")\n",
        "plt.xlabel('Epoch')\n",
        "plt.ylabel('Accuracy')\n",
        "plt.title('Training and validation accuracy')\n",
        "plt.legend(loc='lower right')\n",
        "plt.show()"
      ]
    },
    {
      "cell_type": "code",
      "execution_count": null,
      "metadata": {
        "colab": {
          "base_uri": "https://localhost:8080/",
          "height": 475
        },
        "id": "QFyxMZiaoriN",
        "outputId": "cc2bf930-4dff-49c4-a59f-cbfc8dabb874"
      },
      "outputs": [
        {
          "output_type": "execute_result",
          "data": {
            "text/plain": [
              "Text(0.5, 1.0, 'Training and validation loss')"
            ]
          },
          "metadata": {},
          "execution_count": 15
        },
        {
          "output_type": "display_data",
          "data": {
            "text/plain": [
              "<Figure size 1008x504 with 1 Axes>"
            ],
            "image/png": "[encoded data removed]"
          },
          "metadata": {
            "needs_background": "light"
          }
        }
      ],
      "source": [
        "#Validation and Training loss plot\n",
        "fig = plt.figure(figsize=(14,7))\n",
        "plt.plot(epochs, loss, 'r', label=\"Training Loss\")\n",
        "plt.plot(epochs, val_loss, 'b', label=\"Validation Loss\")\n",
        "plt.legend(loc='upper right')\n",
        "plt.xlabel('Epoch')\n",
        "plt.ylabel('Loss')\n",
        "plt.title('Training and validation loss')"
      ]
    },
    {
      "cell_type": "code",
      "execution_count": null,
      "metadata": {
        "id": "uWWiEA-eoyg3"
      },
      "outputs": [],
      "source": [
        "#Show predicition for one image\n",
        "\n",
        "import tensorflow as tf\n",
        "import cv2\n",
        "import numpy as np\n",
        "from skimage import transform\n",
        "\n",
        "\n",
        "CATEGORIES = ['Color', 'Friend', 'Myself', 'Promise', 'Request', 'Salam','Surprise', 'They', 'Think', 'You']\n",
        "\n",
        "\n",
        "\n",
        "\n",
        "def convert(np_image):\n",
        "   np_image = np.array(np_image).astype('float32')\n",
        "   np_image = transform.resize(np_image, (64, 64, 3))\n",
        "   np_image = np.expand_dims(np_image, axis=0)\n",
        "   return np_image\n",
        "\n",
        "\n",
        "\n",
        "\n",
        "model = tf.keras.models.load_model(\"/content/drive/MyDrive/Sign Language Project/bdsl_word_eng_CNN.h5\")"
      ]
    },
    {
      "cell_type": "code",
      "execution_count": null,
      "metadata": {
        "colab": {
          "base_uri": "https://localhost:8080/"
        },
        "id": "5mwWvfAgozC6",
        "outputId": "bc086dd5-5ba4-48b9-c260-55115748979b"
      },
      "outputs": [
        {
          "output_type": "execute_result",
          "data": {
            "text/plain": [
              "(3413, 2506, 3)"
            ]
          },
          "metadata": {},
          "execution_count": 22
        }
      ],
      "source": [
        "img = cv2.imread(\"/content/Word/Friend/IMG_20220121_173016.jpg\")\n",
        "img.shape"
      ]
    },
    {
      "cell_type": "code",
      "execution_count": null,
      "metadata": {
        "colab": {
          "base_uri": "https://localhost:8080/"
        },
        "id": "ayqJKhvyozql",
        "outputId": "e8dd4926-baf9-4b22-e7ac-69d5e029a92a"
      },
      "outputs": [
        {
          "output_type": "execute_result",
          "data": {
            "text/plain": [
              "(1, 64, 64, 3)"
            ]
          },
          "metadata": {},
          "execution_count": 23
        }
      ],
      "source": [
        "image = convert(img)\n",
        "image.shape"
      ]
    },
    {
      "cell_type": "code",
      "execution_count": null,
      "metadata": {
        "id": "8LSCo230o0WR"
      },
      "outputs": [],
      "source": [
        "prediction = model.predict(image)"
      ]
    },
    {
      "cell_type": "code",
      "execution_count": null,
      "metadata": {
        "colab": {
          "base_uri": "https://localhost:8080/"
        },
        "id": "xw2A7Tlso0nu",
        "outputId": "f021a3b6-509f-47cb-a6f8-afb03614b815"
      },
      "outputs": [
        {
          "output_type": "stream",
          "name": "stdout",
          "text": [
            "Friend\n"
          ]
        }
      ],
      "source": [
        "print(CATEGORIES[int(np.argmax(prediction[0]))])"
      ]
    },
    {
      "cell_type": "code",
      "execution_count": null,
      "metadata": {
        "colab": {
          "base_uri": "https://localhost:8080/"
        },
        "id": "vCBO1XlTpxaV",
        "outputId": "59ef378d-fefe-40e1-dae6-2b319a077d3a"
      },
      "outputs": [
        {
          "output_type": "execute_result",
          "data": {
            "text/plain": [
              "(3556, 3000, 3)"
            ]
          },
          "metadata": {},
          "execution_count": 50
        }
      ],
      "source": [
        "img2 = cv2.imread(\"/content/Word/Surprise/IMG_20220121_172802.jpg\")\n",
        "img2.shape"
      ]
    },
    {
      "cell_type": "code",
      "execution_count": null,
      "metadata": {
        "colab": {
          "base_uri": "https://localhost:8080/"
        },
        "id": "1DGLTBe4p9Sl",
        "outputId": "6cf345c5-9228-4841-c194-ba1667f21225"
      },
      "outputs": [
        {
          "output_type": "execute_result",
          "data": {
            "text/plain": [
              "(1, 64, 64, 3)"
            ]
          },
          "metadata": {},
          "execution_count": 51
        }
      ],
      "source": [
        "image = convert(img2)\n",
        "image.shape"
      ]
    },
    {
      "cell_type": "code",
      "execution_count": null,
      "metadata": {
        "id": "riVeBPp-p9pN"
      },
      "outputs": [],
      "source": [
        "prediction = model.predict(image)"
      ]
    },
    {
      "cell_type": "code",
      "execution_count": null,
      "metadata": {
        "colab": {
          "base_uri": "https://localhost:8080/"
        },
        "id": "f6Fnd7Cqp97U",
        "outputId": "42154d82-463a-421b-9673-734baf361b97"
      },
      "outputs": [
        {
          "output_type": "stream",
          "name": "stdout",
          "text": [
            "Surprise\n"
          ]
        }
      ],
      "source": [
        "print(CATEGORIES[int(np.argmax(prediction[0]))])"
      ]
    },
    {
      "cell_type": "markdown",
      "metadata": {
        "id": "O-FUvMaFivRI"
      },
      "source": [
        "# ResNet50"
      ]
    },
    {
      "cell_type": "code",
      "execution_count": null,
      "metadata": {
        "id": "G6zeXJvbdhi2",
        "colab": {
          "base_uri": "https://localhost:8080/"
        },
        "outputId": "efb55960-08e6-42d3-c7bc-afd8ad6dee64"
      },
      "outputs": [
        {
          "output_type": "stream",
          "name": "stdout",
          "text": [
            "Downloading data from https://storage.googleapis.com/tensorflow/keras-applications/resnet/resnet50_weights_tf_dim_ordering_tf_kernels_notop.h5\n",
            "94773248/94765736 [==============================] - 2s 0us/step\n",
            "94781440/94765736 [==============================] - 2s 0us/step\n"
          ]
        }
      ],
      "source": [
        "classifier_resnet = resnet.ResNet50(input_shape= (64,64,3),include_top=False,weights='imagenet')\n",
        "for layer in classifier_resnet.layers:\n",
        "    layer.trainable = False"
      ]
    },
    {
      "cell_type": "code",
      "execution_count": null,
      "metadata": {
        "id": "jn0bZQK4i1no"
      },
      "outputs": [],
      "source": [
        "classifier2 = classifier_resnet.output#head mode\n",
        "classifier2 = Flatten()(classifier2)#adding layer of flatten\n",
        "classifier2 = Dropout(0.6)(classifier2)\n",
        "classifier2 = Dense(units=num_classes, activation='softmax')(classifier2)\n",
        "\n",
        "model2 = Model(inputs = classifier_resnet.input , outputs = classifier2)\n",
        "model2.compile(optimizer='adam', loss=tf.keras.losses.SparseCategoricalCrossentropy(from_logits=True), metrics=['accuracy'])"
      ]
    },
    {
      "cell_type": "code",
      "execution_count": null,
      "metadata": {
        "colab": {
          "base_uri": "https://localhost:8080/"
        },
        "id": "_9Ohcr-Vi4ER",
        "outputId": "a3a75aa7-89f8-408d-f960-3f853f8f0f14"
      },
      "outputs": [
        {
          "output_type": "stream",
          "name": "stdout",
          "text": [
            "Model: \"model\"\n",
            "__________________________________________________________________________________________________\n",
            " Layer (type)                   Output Shape         Param #     Connected to                     \n",
            "==================================================================================================\n",
            " input_1 (InputLayer)           [(None, 64, 64, 3)]  0           []                               \n",
            "                                                                                                  \n",
            " conv1_pad (ZeroPadding2D)      (None, 70, 70, 3)    0           ['input_1[0][0]']                \n",
            "                                                                                                  \n",
            " conv1_conv (Conv2D)            (None, 32, 32, 64)   9472        ['conv1_pad[0][0]']              \n",
            "                                                                                                  \n",
            " conv1_bn (BatchNormalization)  (None, 32, 32, 64)   256         ['conv1_conv[0][0]']             \n",
            "                                                                                                  \n",
            " conv1_relu (Activation)        (None, 32, 32, 64)   0           ['conv1_bn[0][0]']               \n",
            "                                                                                                  \n",
            " pool1_pad (ZeroPadding2D)      (None, 34, 34, 64)   0           ['conv1_relu[0][0]']             \n",
            "                                                                                                  \n",
            " pool1_pool (MaxPooling2D)      (None, 16, 16, 64)   0           ['pool1_pad[0][0]']              \n",
            "                                                                                                  \n",
            " conv2_block1_1_conv (Conv2D)   (None, 16, 16, 64)   4160        ['pool1_pool[0][0]']             \n",
            "                                                                                                  \n",
            " conv2_block1_1_bn (BatchNormal  (None, 16, 16, 64)  256         ['conv2_block1_1_conv[0][0]']    \n",
            " ization)                                                                                         \n",
            "                                                                                                  \n",
            " conv2_block1_1_relu (Activatio  (None, 16, 16, 64)  0           ['conv2_block1_1_bn[0][0]']      \n",
            " n)                                                                                               \n",
            "                                                                                                  \n",
            " conv2_block1_2_conv (Conv2D)   (None, 16, 16, 64)   36928       ['conv2_block1_1_relu[0][0]']    \n",
            "                                                                                                  \n",
            " conv2_block1_2_bn (BatchNormal  (None, 16, 16, 64)  256         ['conv2_block1_2_conv[0][0]']    \n",
            " ization)                                                                                         \n",
            "                                                                                                  \n",
            " conv2_block1_2_relu (Activatio  (None, 16, 16, 64)  0           ['conv2_block1_2_bn[0][0]']      \n",
            " n)                                                                                               \n",
            "                                                                                                  \n",
            " conv2_block1_0_conv (Conv2D)   (None, 16, 16, 256)  16640       ['pool1_pool[0][0]']             \n",
            "                                                                                                  \n",
            " conv2_block1_3_conv (Conv2D)   (None, 16, 16, 256)  16640       ['conv2_block1_2_relu[0][0]']    \n",
            "                                                                                                  \n",
            " conv2_block1_0_bn (BatchNormal  (None, 16, 16, 256)  1024       ['conv2_block1_0_conv[0][0]']    \n",
            " ization)                                                                                         \n",
            "                                                                                                  \n",
            " conv2_block1_3_bn (BatchNormal  (None, 16, 16, 256)  1024       ['conv2_block1_3_conv[0][0]']    \n",
            " ization)                                                                                         \n",
            "                                                                                                  \n",
            " conv2_block1_add (Add)         (None, 16, 16, 256)  0           ['conv2_block1_0_bn[0][0]',      \n",
            "                                                                  'conv2_block1_3_bn[0][0]']      \n",
            "                                                                                                  \n",
            " conv2_block1_out (Activation)  (None, 16, 16, 256)  0           ['conv2_block1_add[0][0]']       \n",
            "                                                                                                  \n",
            " conv2_block2_1_conv (Conv2D)   (None, 16, 16, 64)   16448       ['conv2_block1_out[0][0]']       \n",
            "                                                                                                  \n",
            " conv2_block2_1_bn (BatchNormal  (None, 16, 16, 64)  256         ['conv2_block2_1_conv[0][0]']    \n",
            " ization)                                                                                         \n",
            "                                                                                                  \n",
            " conv2_block2_1_relu (Activatio  (None, 16, 16, 64)  0           ['conv2_block2_1_bn[0][0]']      \n",
            " n)                                                                                               \n",
            "                                                                                                  \n",
            " conv2_block2_2_conv (Conv2D)   (None, 16, 16, 64)   36928       ['conv2_block2_1_relu[0][0]']    \n",
            "                                                                                                  \n",
            " conv2_block2_2_bn (BatchNormal  (None, 16, 16, 64)  256         ['conv2_block2_2_conv[0][0]']    \n",
            " ization)                                                                                         \n",
            "                                                                                                  \n",
            " conv2_block2_2_relu (Activatio  (None, 16, 16, 64)  0           ['conv2_block2_2_bn[0][0]']      \n",
            " n)                                                                                               \n",
            "                                                                                                  \n",
            " conv2_block2_3_conv (Conv2D)   (None, 16, 16, 256)  16640       ['conv2_block2_2_relu[0][0]']    \n",
            "                                                                                                  \n",
            " conv2_block2_3_bn (BatchNormal  (None, 16, 16, 256)  1024       ['conv2_block2_3_conv[0][0]']    \n",
            " ization)                                                                                         \n",
            "                                                                                                  \n",
            " conv2_block2_add (Add)         (None, 16, 16, 256)  0           ['conv2_block1_out[0][0]',       \n",
            "                                                                  'conv2_block2_3_bn[0][0]']      \n",
            "                                                                                                  \n",
            " conv2_block2_out (Activation)  (None, 16, 16, 256)  0           ['conv2_block2_add[0][0]']       \n",
            "                                                                                                  \n",
            " conv2_block3_1_conv (Conv2D)   (None, 16, 16, 64)   16448       ['conv2_block2_out[0][0]']       \n",
            "                                                                                                  \n",
            " conv2_block3_1_bn (BatchNormal  (None, 16, 16, 64)  256         ['conv2_block3_1_conv[0][0]']    \n",
            " ization)                                                                                         \n",
            "                                                                                                  \n",
            " conv2_block3_1_relu (Activatio  (None, 16, 16, 64)  0           ['conv2_block3_1_bn[0][0]']      \n",
            " n)                                                                                               \n",
            "                                                                                                  \n",
            " conv2_block3_2_conv (Conv2D)   (None, 16, 16, 64)   36928       ['conv2_block3_1_relu[0][0]']    \n",
            "                                                                                                  \n",
            " conv2_block3_2_bn (BatchNormal  (None, 16, 16, 64)  256         ['conv2_block3_2_conv[0][0]']    \n",
            " ization)                                                                                         \n",
            "                                                                                                  \n",
            " conv2_block3_2_relu (Activatio  (None, 16, 16, 64)  0           ['conv2_block3_2_bn[0][0]']      \n",
            " n)                                                                                               \n",
            "                                                                                                  \n",
            " conv2_block3_3_conv (Conv2D)   (None, 16, 16, 256)  16640       ['conv2_block3_2_relu[0][0]']    \n",
            "                                                                                                  \n",
            " conv2_block3_3_bn (BatchNormal  (None, 16, 16, 256)  1024       ['conv2_block3_3_conv[0][0]']    \n",
            " ization)                                                                                         \n",
            "                                                                                                  \n",
            " conv2_block3_add (Add)         (None, 16, 16, 256)  0           ['conv2_block2_out[0][0]',       \n",
            "                                                                  'conv2_block3_3_bn[0][0]']      \n",
            "                                                                                                  \n",
            " conv2_block3_out (Activation)  (None, 16, 16, 256)  0           ['conv2_block3_add[0][0]']       \n",
            "                                                                                                  \n",
            " conv3_block1_1_conv (Conv2D)   (None, 8, 8, 128)    32896       ['conv2_block3_out[0][0]']       \n",
            "                                                                                                  \n",
            " conv3_block1_1_bn (BatchNormal  (None, 8, 8, 128)   512         ['conv3_block1_1_conv[0][0]']    \n",
            " ization)                                                                                         \n",
            "                                                                                                  \n",
            " conv3_block1_1_relu (Activatio  (None, 8, 8, 128)   0           ['conv3_block1_1_bn[0][0]']      \n",
            " n)                                                                                               \n",
            "                                                                                                  \n",
            " conv3_block1_2_conv (Conv2D)   (None, 8, 8, 128)    147584      ['conv3_block1_1_relu[0][0]']    \n",
            "                                                                                                  \n",
            " conv3_block1_2_bn (BatchNormal  (None, 8, 8, 128)   512         ['conv3_block1_2_conv[0][0]']    \n",
            " ization)                                                                                         \n",
            "                                                                                                  \n",
            " conv3_block1_2_relu (Activatio  (None, 8, 8, 128)   0           ['conv3_block1_2_bn[0][0]']      \n",
            " n)                                                                                               \n",
            "                                                                                                  \n",
            " conv3_block1_0_conv (Conv2D)   (None, 8, 8, 512)    131584      ['conv2_block3_out[0][0]']       \n",
            "                                                                                                  \n",
            " conv3_block1_3_conv (Conv2D)   (None, 8, 8, 512)    66048       ['conv3_block1_2_relu[0][0]']    \n",
            "                                                                                                  \n",
            " conv3_block1_0_bn (BatchNormal  (None, 8, 8, 512)   2048        ['conv3_block1_0_conv[0][0]']    \n",
            " ization)                                                                                         \n",
            "                                                                                                  \n",
            " conv3_block1_3_bn (BatchNormal  (None, 8, 8, 512)   2048        ['conv3_block1_3_conv[0][0]']    \n",
            " ization)                                                                                         \n",
            "                                                                                                  \n",
            " conv3_block1_add (Add)         (None, 8, 8, 512)    0           ['conv3_block1_0_bn[0][0]',      \n",
            "                                                                  'conv3_block1_3_bn[0][0]']      \n",
            "                                                                                                  \n",
            " conv3_block1_out (Activation)  (None, 8, 8, 512)    0           ['conv3_block1_add[0][0]']       \n",
            "                                                                                                  \n",
            " conv3_block2_1_conv (Conv2D)   (None, 8, 8, 128)    65664       ['conv3_block1_out[0][0]']       \n",
            "                                                                                                  \n",
            " conv3_block2_1_bn (BatchNormal  (None, 8, 8, 128)   512         ['conv3_block2_1_conv[0][0]']    \n",
            " ization)                                                                                         \n",
            "                                                                                                  \n",
            " conv3_block2_1_relu (Activatio  (None, 8, 8, 128)   0           ['conv3_block2_1_bn[0][0]']      \n",
            " n)                                                                                               \n",
            "                                                                                                  \n",
            " conv3_block2_2_conv (Conv2D)   (None, 8, 8, 128)    147584      ['conv3_block2_1_relu[0][0]']    \n",
            "                                                                                                  \n",
            " conv3_block2_2_bn (BatchNormal  (None, 8, 8, 128)   512         ['conv3_block2_2_conv[0][0]']    \n",
            " ization)                                                                                         \n",
            "                                                                                                  \n",
            " conv3_block2_2_relu (Activatio  (None, 8, 8, 128)   0           ['conv3_block2_2_bn[0][0]']      \n",
            " n)                                                                                               \n",
            "                                                                                                  \n",
            " conv3_block2_3_conv (Conv2D)   (None, 8, 8, 512)    66048       ['conv3_block2_2_relu[0][0]']    \n",
            "                                                                                                  \n",
            " conv3_block2_3_bn (BatchNormal  (None, 8, 8, 512)   2048        ['conv3_block2_3_conv[0][0]']    \n",
            " ization)                                                                                         \n",
            "                                                                                                  \n",
            " conv3_block2_add (Add)         (None, 8, 8, 512)    0           ['conv3_block1_out[0][0]',       \n",
            "                                                                  'conv3_block2_3_bn[0][0]']      \n",
            "                                                                                                  \n",
            " conv3_block2_out (Activation)  (None, 8, 8, 512)    0           ['conv3_block2_add[0][0]']       \n",
            "                                                                                                  \n",
            " conv3_block3_1_conv (Conv2D)   (None, 8, 8, 128)    65664       ['conv3_block2_out[0][0]']       \n",
            "                                                                                                  \n",
            " conv3_block3_1_bn (BatchNormal  (None, 8, 8, 128)   512         ['conv3_block3_1_conv[0][0]']    \n",
            " ization)                                                                                         \n",
            "                                                                                                  \n",
            " conv3_block3_1_relu (Activatio  (None, 8, 8, 128)   0           ['conv3_block3_1_bn[0][0]']      \n",
            " n)                                                                                               \n",
            "                                                                                                  \n",
            " conv3_block3_2_conv (Conv2D)   (None, 8, 8, 128)    147584      ['conv3_block3_1_relu[0][0]']    \n",
            "                                                                                                  \n",
            " conv3_block3_2_bn (BatchNormal  (None, 8, 8, 128)   512         ['conv3_block3_2_conv[0][0]']    \n",
            " ization)                                                                                         \n",
            "                                                                                                  \n",
            " conv3_block3_2_relu (Activatio  (None, 8, 8, 128)   0           ['conv3_block3_2_bn[0][0]']      \n",
            " n)                                                                                               \n",
            "                                                                                                  \n",
            " conv3_block3_3_conv (Conv2D)   (None, 8, 8, 512)    66048       ['conv3_block3_2_relu[0][0]']    \n",
            "                                                                                                  \n",
            " conv3_block3_3_bn (BatchNormal  (None, 8, 8, 512)   2048        ['conv3_block3_3_conv[0][0]']    \n",
            " ization)                                                                                         \n",
            "                                                                                                  \n",
            " conv3_block3_add (Add)         (None, 8, 8, 512)    0           ['conv3_block2_out[0][0]',       \n",
            "                                                                  'conv3_block3_3_bn[0][0]']      \n",
            "                                                                                                  \n",
            " conv3_block3_out (Activation)  (None, 8, 8, 512)    0           ['conv3_block3_add[0][0]']       \n",
            "                                                                                                  \n",
            " conv3_block4_1_conv (Conv2D)   (None, 8, 8, 128)    65664       ['conv3_block3_out[0][0]']       \n",
            "                                                                                                  \n",
            " conv3_block4_1_bn (BatchNormal  (None, 8, 8, 128)   512         ['conv3_block4_1_conv[0][0]']    \n",
            " ization)                                                                                         \n",
            "                                                                                                  \n",
            " conv3_block4_1_relu (Activatio  (None, 8, 8, 128)   0           ['conv3_block4_1_bn[0][0]']      \n",
            " n)                                                                                               \n",
            "                                                                                                  \n",
            " conv3_block4_2_conv (Conv2D)   (None, 8, 8, 128)    147584      ['conv3_block4_1_relu[0][0]']    \n",
            "                                                                                                  \n",
            " conv3_block4_2_bn (BatchNormal  (None, 8, 8, 128)   512         ['conv3_block4_2_conv[0][0]']    \n",
            " ization)                                                                                         \n",
            "                                                                                                  \n",
            " conv3_block4_2_relu (Activatio  (None, 8, 8, 128)   0           ['conv3_block4_2_bn[0][0]']      \n",
            " n)                                                                                               \n",
            "                                                                                                  \n",
            " conv3_block4_3_conv (Conv2D)   (None, 8, 8, 512)    66048       ['conv3_block4_2_relu[0][0]']    \n",
            "                                                                                                  \n",
            " conv3_block4_3_bn (BatchNormal  (None, 8, 8, 512)   2048        ['conv3_block4_3_conv[0][0]']    \n",
            " ization)                                                                                         \n",
            "                                                                                                  \n",
            " conv3_block4_add (Add)         (None, 8, 8, 512)    0           ['conv3_block3_out[0][0]',       \n",
            "                                                                  'conv3_block4_3_bn[0][0]']      \n",
            "                                                                                                  \n",
            " conv3_block4_out (Activation)  (None, 8, 8, 512)    0           ['conv3_block4_add[0][0]']       \n",
            "                                                                                                  \n",
            " conv4_block1_1_conv (Conv2D)   (None, 4, 4, 256)    131328      ['conv3_block4_out[0][0]']       \n",
            "                                                                                                  \n",
            " conv4_block1_1_bn (BatchNormal  (None, 4, 4, 256)   1024        ['conv4_block1_1_conv[0][0]']    \n",
            " ization)                                                                                         \n",
            "                                                                                                  \n",
            " conv4_block1_1_relu (Activatio  (None, 4, 4, 256)   0           ['conv4_block1_1_bn[0][0]']      \n",
            " n)                                                                                               \n",
            "                                                                                                  \n",
            " conv4_block1_2_conv (Conv2D)   (None, 4, 4, 256)    590080      ['conv4_block1_1_relu[0][0]']    \n",
            "                                                                                                  \n",
            " conv4_block1_2_bn (BatchNormal  (None, 4, 4, 256)   1024        ['conv4_block1_2_conv[0][0]']    \n",
            " ization)                                                                                         \n",
            "                                                                                                  \n",
            " conv4_block1_2_relu (Activatio  (None, 4, 4, 256)   0           ['conv4_block1_2_bn[0][0]']      \n",
            " n)                                                                                               \n",
            "                                                                                                  \n",
            " conv4_block1_0_conv (Conv2D)   (None, 4, 4, 1024)   525312      ['conv3_block4_out[0][0]']       \n",
            "                                                                                                  \n",
            " conv4_block1_3_conv (Conv2D)   (None, 4, 4, 1024)   263168      ['conv4_block1_2_relu[0][0]']    \n",
            "                                                                                                  \n",
            " conv4_block1_0_bn (BatchNormal  (None, 4, 4, 1024)  4096        ['conv4_block1_0_conv[0][0]']    \n",
            " ization)                                                                                         \n",
            "                                                                                                  \n",
            " conv4_block1_3_bn (BatchNormal  (None, 4, 4, 1024)  4096        ['conv4_block1_3_conv[0][0]']    \n",
            " ization)                                                                                         \n",
            "                                                                                                  \n",
            " conv4_block1_add (Add)         (None, 4, 4, 1024)   0           ['conv4_block1_0_bn[0][0]',      \n",
            "                                                                  'conv4_block1_3_bn[0][0]']      \n",
            "                                                                                                  \n",
            " conv4_block1_out (Activation)  (None, 4, 4, 1024)   0           ['conv4_block1_add[0][0]']       \n",
            "                                                                                                  \n",
            " conv4_block2_1_conv (Conv2D)   (None, 4, 4, 256)    262400      ['conv4_block1_out[0][0]']       \n",
            "                                                                                                  \n",
            " conv4_block2_1_bn (BatchNormal  (None, 4, 4, 256)   1024        ['conv4_block2_1_conv[0][0]']    \n",
            " ization)                                                                                         \n",
            "                                                                                                  \n",
            " conv4_block2_1_relu (Activatio  (None, 4, 4, 256)   0           ['conv4_block2_1_bn[0][0]']      \n",
            " n)                                                                                               \n",
            "                                                                                                  \n",
            " conv4_block2_2_conv (Conv2D)   (None, 4, 4, 256)    590080      ['conv4_block2_1_relu[0][0]']    \n",
            "                                                                                                  \n",
            " conv4_block2_2_bn (BatchNormal  (None, 4, 4, 256)   1024        ['conv4_block2_2_conv[0][0]']    \n",
            " ization)                                                                                         \n",
            "                                                                                                  \n",
            " conv4_block2_2_relu (Activatio  (None, 4, 4, 256)   0           ['conv4_block2_2_bn[0][0]']      \n",
            " n)                                                                                               \n",
            "                                                                                                  \n",
            " conv4_block2_3_conv (Conv2D)   (None, 4, 4, 1024)   263168      ['conv4_block2_2_relu[0][0]']    \n",
            "                                                                                                  \n",
            " conv4_block2_3_bn (BatchNormal  (None, 4, 4, 1024)  4096        ['conv4_block2_3_conv[0][0]']    \n",
            " ization)                                                                                         \n",
            "                                                                                                  \n",
            " conv4_block2_add (Add)         (None, 4, 4, 1024)   0           ['conv4_block1_out[0][0]',       \n",
            "                                                                  'conv4_block2_3_bn[0][0]']      \n",
            "                                                                                                  \n",
            " conv4_block2_out (Activation)  (None, 4, 4, 1024)   0           ['conv4_block2_add[0][0]']       \n",
            "                                                                                                  \n",
            " conv4_block3_1_conv (Conv2D)   (None, 4, 4, 256)    262400      ['conv4_block2_out[0][0]']       \n",
            "                                                                                                  \n",
            " conv4_block3_1_bn (BatchNormal  (None, 4, 4, 256)   1024        ['conv4_block3_1_conv[0][0]']    \n",
            " ization)                                                                                         \n",
            "                                                                                                  \n",
            " conv4_block3_1_relu (Activatio  (None, 4, 4, 256)   0           ['conv4_block3_1_bn[0][0]']      \n",
            " n)                                                                                               \n",
            "                                                                                                  \n",
            " conv4_block3_2_conv (Conv2D)   (None, 4, 4, 256)    590080      ['conv4_block3_1_relu[0][0]']    \n",
            "                                                                                                  \n",
            " conv4_block3_2_bn (BatchNormal  (None, 4, 4, 256)   1024        ['conv4_block3_2_conv[0][0]']    \n",
            " ization)                                                                                         \n",
            "                                                                                                  \n",
            " conv4_block3_2_relu (Activatio  (None, 4, 4, 256)   0           ['conv4_block3_2_bn[0][0]']      \n",
            " n)                                                                                               \n",
            "                                                                                                  \n",
            " conv4_block3_3_conv (Conv2D)   (None, 4, 4, 1024)   263168      ['conv4_block3_2_relu[0][0]']    \n",
            "                                                                                                  \n",
            " conv4_block3_3_bn (BatchNormal  (None, 4, 4, 1024)  4096        ['conv4_block3_3_conv[0][0]']    \n",
            " ization)                                                                                         \n",
            "                                                                                                  \n",
            " conv4_block3_add (Add)         (None, 4, 4, 1024)   0           ['conv4_block2_out[0][0]',       \n",
            "                                                                  'conv4_block3_3_bn[0][0]']      \n",
            "                                                                                                  \n",
            " conv4_block3_out (Activation)  (None, 4, 4, 1024)   0           ['conv4_block3_add[0][0]']       \n",
            "                                                                                                  \n",
            " conv4_block4_1_conv (Conv2D)   (None, 4, 4, 256)    262400      ['conv4_block3_out[0][0]']       \n",
            "                                                                                                  \n",
            " conv4_block4_1_bn (BatchNormal  (None, 4, 4, 256)   1024        ['conv4_block4_1_conv[0][0]']    \n",
            " ization)                                                                                         \n",
            "                                                                                                  \n",
            " conv4_block4_1_relu (Activatio  (None, 4, 4, 256)   0           ['conv4_block4_1_bn[0][0]']      \n",
            " n)                                                                                               \n",
            "                                                                                                  \n",
            " conv4_block4_2_conv (Conv2D)   (None, 4, 4, 256)    590080      ['conv4_block4_1_relu[0][0]']    \n",
            "                                                                                                  \n",
            " conv4_block4_2_bn (BatchNormal  (None, 4, 4, 256)   1024        ['conv4_block4_2_conv[0][0]']    \n",
            " ization)                                                                                         \n",
            "                                                                                                  \n",
            " conv4_block4_2_relu (Activatio  (None, 4, 4, 256)   0           ['conv4_block4_2_bn[0][0]']      \n",
            " n)                                                                                               \n",
            "                                                                                                  \n",
            " conv4_block4_3_conv (Conv2D)   (None, 4, 4, 1024)   263168      ['conv4_block4_2_relu[0][0]']    \n",
            "                                                                                                  \n",
            " conv4_block4_3_bn (BatchNormal  (None, 4, 4, 1024)  4096        ['conv4_block4_3_conv[0][0]']    \n",
            " ization)                                                                                         \n",
            "                                                                                                  \n",
            " conv4_block4_add (Add)         (None, 4, 4, 1024)   0           ['conv4_block3_out[0][0]',       \n",
            "                                                                  'conv4_block4_3_bn[0][0]']      \n",
            "                                                                                                  \n",
            " conv4_block4_out (Activation)  (None, 4, 4, 1024)   0           ['conv4_block4_add[0][0]']       \n",
            "                                                                                                  \n",
            " conv4_block5_1_conv (Conv2D)   (None, 4, 4, 256)    262400      ['conv4_block4_out[0][0]']       \n",
            "                                                                                                  \n",
            " conv4_block5_1_bn (BatchNormal  (None, 4, 4, 256)   1024        ['conv4_block5_1_conv[0][0]']    \n",
            " ization)                                                                                         \n",
            "                                                                                                  \n",
            " conv4_block5_1_relu (Activatio  (None, 4, 4, 256)   0           ['conv4_block5_1_bn[0][0]']      \n",
            " n)                                                                                               \n",
            "                                                                                                  \n",
            " conv4_block5_2_conv (Conv2D)   (None, 4, 4, 256)    590080      ['conv4_block5_1_relu[0][0]']    \n",
            "                                                                                                  \n",
            " conv4_block5_2_bn (BatchNormal  (None, 4, 4, 256)   1024        ['conv4_block5_2_conv[0][0]']    \n",
            " ization)                                                                                         \n",
            "                                                                                                  \n",
            " conv4_block5_2_relu (Activatio  (None, 4, 4, 256)   0           ['conv4_block5_2_bn[0][0]']      \n",
            " n)                                                                                               \n",
            "                                                                                                  \n",
            " conv4_block5_3_conv (Conv2D)   (None, 4, 4, 1024)   263168      ['conv4_block5_2_relu[0][0]']    \n",
            "                                                                                                  \n",
            " conv4_block5_3_bn (BatchNormal  (None, 4, 4, 1024)  4096        ['conv4_block5_3_conv[0][0]']    \n",
            " ization)                                                                                         \n",
            "                                                                                                  \n",
            " conv4_block5_add (Add)         (None, 4, 4, 1024)   0           ['conv4_block4_out[0][0]',       \n",
            "                                                                  'conv4_block5_3_bn[0][0]']      \n",
            "                                                                                                  \n",
            " conv4_block5_out (Activation)  (None, 4, 4, 1024)   0           ['conv4_block5_add[0][0]']       \n",
            "                                                                                                  \n",
            " conv4_block6_1_conv (Conv2D)   (None, 4, 4, 256)    262400      ['conv4_block5_out[0][0]']       \n",
            "                                                                                                  \n",
            " conv4_block6_1_bn (BatchNormal  (None, 4, 4, 256)   1024        ['conv4_block6_1_conv[0][0]']    \n",
            " ization)                                                                                         \n",
            "                                                                                                  \n",
            " conv4_block6_1_relu (Activatio  (None, 4, 4, 256)   0           ['conv4_block6_1_bn[0][0]']      \n",
            " n)                                                                                               \n",
            "                                                                                                  \n",
            " conv4_block6_2_conv (Conv2D)   (None, 4, 4, 256)    590080      ['conv4_block6_1_relu[0][0]']    \n",
            "                                                                                                  \n",
            " conv4_block6_2_bn (BatchNormal  (None, 4, 4, 256)   1024        ['conv4_block6_2_conv[0][0]']    \n",
            " ization)                                                                                         \n",
            "                                                                                                  \n",
            " conv4_block6_2_relu (Activatio  (None, 4, 4, 256)   0           ['conv4_block6_2_bn[0][0]']      \n",
            " n)                                                                                               \n",
            "                                                                                                  \n",
            " conv4_block6_3_conv (Conv2D)   (None, 4, 4, 1024)   263168      ['conv4_block6_2_relu[0][0]']    \n",
            "                                                                                                  \n",
            " conv4_block6_3_bn (BatchNormal  (None, 4, 4, 1024)  4096        ['conv4_block6_3_conv[0][0]']    \n",
            " ization)                                                                                         \n",
            "                                                                                                  \n",
            " conv4_block6_add (Add)         (None, 4, 4, 1024)   0           ['conv4_block5_out[0][0]',       \n",
            "                                                                  'conv4_block6_3_bn[0][0]']      \n",
            "                                                                                                  \n",
            " conv4_block6_out (Activation)  (None, 4, 4, 1024)   0           ['conv4_block6_add[0][0]']       \n",
            "                                                                                                  \n",
            " conv5_block1_1_conv (Conv2D)   (None, 2, 2, 512)    524800      ['conv4_block6_out[0][0]']       \n",
            "                                                                                                  \n",
            " conv5_block1_1_bn (BatchNormal  (None, 2, 2, 512)   2048        ['conv5_block1_1_conv[0][0]']    \n",
            " ization)                                                                                         \n",
            "                                                                                                  \n",
            " conv5_block1_1_relu (Activatio  (None, 2, 2, 512)   0           ['conv5_block1_1_bn[0][0]']      \n",
            " n)                                                                                               \n",
            "                                                                                                  \n",
            " conv5_block1_2_conv (Conv2D)   (None, 2, 2, 512)    2359808     ['conv5_block1_1_relu[0][0]']    \n",
            "                                                                                                  \n",
            " conv5_block1_2_bn (BatchNormal  (None, 2, 2, 512)   2048        ['conv5_block1_2_conv[0][0]']    \n",
            " ization)                                                                                         \n",
            "                                                                                                  \n",
            " conv5_block1_2_relu (Activatio  (None, 2, 2, 512)   0           ['conv5_block1_2_bn[0][0]']      \n",
            " n)                                                                                               \n",
            "                                                                                                  \n",
            " conv5_block1_0_conv (Conv2D)   (None, 2, 2, 2048)   2099200     ['conv4_block6_out[0][0]']       \n",
            "                                                                                                  \n",
            " conv5_block1_3_conv (Conv2D)   (None, 2, 2, 2048)   1050624     ['conv5_block1_2_relu[0][0]']    \n",
            "                                                                                                  \n",
            " conv5_block1_0_bn (BatchNormal  (None, 2, 2, 2048)  8192        ['conv5_block1_0_conv[0][0]']    \n",
            " ization)                                                                                         \n",
            "                                                                                                  \n",
            " conv5_block1_3_bn (BatchNormal  (None, 2, 2, 2048)  8192        ['conv5_block1_3_conv[0][0]']    \n",
            " ization)                                                                                         \n",
            "                                                                                                  \n",
            " conv5_block1_add (Add)         (None, 2, 2, 2048)   0           ['conv5_block1_0_bn[0][0]',      \n",
            "                                                                  'conv5_block1_3_bn[0][0]']      \n",
            "                                                                                                  \n",
            " conv5_block1_out (Activation)  (None, 2, 2, 2048)   0           ['conv5_block1_add[0][0]']       \n",
            "                                                                                                  \n",
            " conv5_block2_1_conv (Conv2D)   (None, 2, 2, 512)    1049088     ['conv5_block1_out[0][0]']       \n",
            "                                                                                                  \n",
            " conv5_block2_1_bn (BatchNormal  (None, 2, 2, 512)   2048        ['conv5_block2_1_conv[0][0]']    \n",
            " ization)                                                                                         \n",
            "                                                                                                  \n",
            " conv5_block2_1_relu (Activatio  (None, 2, 2, 512)   0           ['conv5_block2_1_bn[0][0]']      \n",
            " n)                                                                                               \n",
            "                                                                                                  \n",
            " conv5_block2_2_conv (Conv2D)   (None, 2, 2, 512)    2359808     ['conv5_block2_1_relu[0][0]']    \n",
            "                                                                                                  \n",
            " conv5_block2_2_bn (BatchNormal  (None, 2, 2, 512)   2048        ['conv5_block2_2_conv[0][0]']    \n",
            " ization)                                                                                         \n",
            "                                                                                                  \n",
            " conv5_block2_2_relu (Activatio  (None, 2, 2, 512)   0           ['conv5_block2_2_bn[0][0]']      \n",
            " n)                                                                                               \n",
            "                                                                                                  \n",
            " conv5_block2_3_conv (Conv2D)   (None, 2, 2, 2048)   1050624     ['conv5_block2_2_relu[0][0]']    \n",
            "                                                                                                  \n",
            " conv5_block2_3_bn (BatchNormal  (None, 2, 2, 2048)  8192        ['conv5_block2_3_conv[0][0]']    \n",
            " ization)                                                                                         \n",
            "                                                                                                  \n",
            " conv5_block2_add (Add)         (None, 2, 2, 2048)   0           ['conv5_block1_out[0][0]',       \n",
            "                                                                  'conv5_block2_3_bn[0][0]']      \n",
            "                                                                                                  \n",
            " conv5_block2_out (Activation)  (None, 2, 2, 2048)   0           ['conv5_block2_add[0][0]']       \n",
            "                                                                                                  \n",
            " conv5_block3_1_conv (Conv2D)   (None, 2, 2, 512)    1049088     ['conv5_block2_out[0][0]']       \n",
            "                                                                                                  \n",
            " conv5_block3_1_bn (BatchNormal  (None, 2, 2, 512)   2048        ['conv5_block3_1_conv[0][0]']    \n",
            " ization)                                                                                         \n",
            "                                                                                                  \n",
            " conv5_block3_1_relu (Activatio  (None, 2, 2, 512)   0           ['conv5_block3_1_bn[0][0]']      \n",
            " n)                                                                                               \n",
            "                                                                                                  \n",
            " conv5_block3_2_conv (Conv2D)   (None, 2, 2, 512)    2359808     ['conv5_block3_1_relu[0][0]']    \n",
            "                                                                                                  \n",
            " conv5_block3_2_bn (BatchNormal  (None, 2, 2, 512)   2048        ['conv5_block3_2_conv[0][0]']    \n",
            " ization)                                                                                         \n",
            "                                                                                                  \n",
            " conv5_block3_2_relu (Activatio  (None, 2, 2, 512)   0           ['conv5_block3_2_bn[0][0]']      \n",
            " n)                                                                                               \n",
            "                                                                                                  \n",
            " conv5_block3_3_conv (Conv2D)   (None, 2, 2, 2048)   1050624     ['conv5_block3_2_relu[0][0]']    \n",
            "                                                                                                  \n",
            " conv5_block3_3_bn (BatchNormal  (None, 2, 2, 2048)  8192        ['conv5_block3_3_conv[0][0]']    \n",
            " ization)                                                                                         \n",
            "                                                                                                  \n",
            " conv5_block3_add (Add)         (None, 2, 2, 2048)   0           ['conv5_block2_out[0][0]',       \n",
            "                                                                  'conv5_block3_3_bn[0][0]']      \n",
            "                                                                                                  \n",
            " conv5_block3_out (Activation)  (None, 2, 2, 2048)   0           ['conv5_block3_add[0][0]']       \n",
            "                                                                                                  \n",
            " flatten_1 (Flatten)            (None, 8192)         0           ['conv5_block3_out[0][0]']       \n",
            "                                                                                                  \n",
            " dropout (Dropout)              (None, 8192)         0           ['flatten_1[0][0]']              \n",
            "                                                                                                  \n",
            " dense_2 (Dense)                (None, 10)           81930       ['dropout[0][0]']                \n",
            "                                                                                                  \n",
            "==================================================================================================\n",
            "Total params: 23,669,642\n",
            "Trainable params: 81,930\n",
            "Non-trainable params: 23,587,712\n",
            "__________________________________________________________________________________________________\n"
          ]
        }
      ],
      "source": [
        "model2.summary()"
      ]
    },
    {
      "cell_type": "code",
      "execution_count": null,
      "metadata": {
        "colab": {
          "base_uri": "https://localhost:8080/"
        },
        "id": "gr743gNzi6Dy",
        "outputId": "ebcd88cf-ab38-4c41-8667-1a9b5bc2acf4"
      },
      "outputs": [
        {
          "output_type": "stream",
          "name": "stdout",
          "text": [
            "Epoch 1/10\n"
          ]
        },
        {
          "output_type": "stream",
          "name": "stderr",
          "text": [
            "/usr/local/lib/python3.7/dist-packages/tensorflow/python/util/dispatch.py:1082: UserWarning: \"`sparse_categorical_crossentropy` received `from_logits=True`, but the `output` argument was produced by a sigmoid or softmax activation and thus does not represent logits. Was this intended?\"\n",
            "  return dispatch_target(*args, **kwargs)\n"
          ]
        },
        {
          "output_type": "stream",
          "name": "stdout",
          "text": [
            "25/25 [==============================] - 44s 1s/step - loss: 4.1502 - accuracy: 0.3678 - val_loss: 0.8051 - val_accuracy: 0.7525\n",
            "Epoch 2/10\n",
            "25/25 [==============================] - 37s 1s/step - loss: 1.3799 - accuracy: 0.7317 - val_loss: 0.6556 - val_accuracy: 0.8384\n",
            "Epoch 3/10\n",
            "25/25 [==============================] - 36s 1s/step - loss: 0.8410 - accuracy: 0.7972 - val_loss: 0.5254 - val_accuracy: 0.8838\n",
            "Epoch 4/10\n",
            "25/25 [==============================] - 38s 1s/step - loss: 0.5396 - accuracy: 0.8690 - val_loss: 0.5375 - val_accuracy: 0.8737\n",
            "Epoch 5/10\n",
            "25/25 [==============================] - 36s 1s/step - loss: 0.3467 - accuracy: 0.9068 - val_loss: 0.4622 - val_accuracy: 0.9040\n",
            "Epoch 6/10\n",
            "25/25 [==============================] - 37s 1s/step - loss: 0.3739 - accuracy: 0.9106 - val_loss: 0.4743 - val_accuracy: 0.8939\n",
            "Epoch 7/10\n",
            "25/25 [==============================] - 37s 1s/step - loss: 0.4070 - accuracy: 0.9030 - val_loss: 0.5051 - val_accuracy: 0.8939\n",
            "Epoch 8/10\n",
            "25/25 [==============================] - 37s 1s/step - loss: 0.2574 - accuracy: 0.9219 - val_loss: 0.5810 - val_accuracy: 0.8990\n",
            "Epoch 9/10\n",
            "25/25 [==============================] - 40s 1s/step - loss: 0.2628 - accuracy: 0.9408 - val_loss: 0.4642 - val_accuracy: 0.8990\n",
            "Epoch 10/10\n",
            "25/25 [==============================] - 37s 1s/step - loss: 0.1275 - accuracy: 0.9572 - val_loss: 0.4267 - val_accuracy: 0.9040\n"
          ]
        }
      ],
      "source": [
        "history2 = model2.fit(train_ds, epochs=10, validation_data=val_ds)"
      ]
    },
    {
      "cell_type": "code",
      "execution_count": null,
      "metadata": {
        "id": "RTXCH226nV1v"
      },
      "outputs": [],
      "source": [
        "#save the model for predictions\n",
        "model2.save('/content/drive/MyDrive/Sign Language Project/bdsl_word_eng_resnet.h5')"
      ]
    },
    {
      "cell_type": "code",
      "source": [
        "# Validation and Training accuracy plot\n",
        "acc=history2.history['accuracy']\n",
        "val_acc=history2.history['val_accuracy']\n",
        "loss=history2.history['loss']\n",
        "val_loss=history2.history['val_loss']\n",
        "\n",
        "epochs=range(len(acc))\n",
        "\n",
        "fig = plt.figure(figsize=(14,7))\n",
        "plt.plot(epochs, acc, 'r', label=\"Training Accuracy\")\n",
        "plt.plot(epochs, val_acc, 'b', label=\"Validation Accuracy\")\n",
        "plt.xlabel('Epoch')\n",
        "plt.ylabel('Accuracy')\n",
        "plt.title('Training and validation accuracy')\n",
        "plt.legend(loc='lower right')\n",
        "plt.show()"
      ],
      "metadata": {
        "colab": {
          "base_uri": "https://localhost:8080/",
          "height": 458
        },
        "id": "jobdwWt_u_AB",
        "outputId": "6b7856cc-c754-4502-adda-5b072e14c05d"
      },
      "execution_count": null,
      "outputs": [
        {
          "output_type": "display_data",
          "data": {
            "text/plain": [
              "<Figure size 1008x504 with 1 Axes>"
            ],
            "image/png": "[encoded data removed]"
          },
          "metadata": {
            "needs_background": "light"
          }
        }
      ]
    },
    {
      "cell_type": "code",
      "source": [
        "#Validation and Training loss plot\n",
        "fig = plt.figure(figsize=(14,7))\n",
        "plt.plot(epochs, loss, 'r', label=\"Training Loss\")\n",
        "plt.plot(epochs, val_loss, 'b', label=\"Validation Loss\")\n",
        "plt.legend(loc='upper right')\n",
        "plt.xlabel('Epoch')\n",
        "plt.ylabel('Loss')\n",
        "plt.title('Training and validation loss')"
      ],
      "metadata": {
        "colab": {
          "base_uri": "https://localhost:8080/",
          "height": 475
        },
        "id": "pqLUWISJu_UZ",
        "outputId": "b21b199e-2b56-401f-e97c-07e8201b019c"
      },
      "execution_count": null,
      "outputs": [
        {
          "output_type": "execute_result",
          "data": {
            "text/plain": [
              "Text(0.5, 1.0, 'Training and validation loss')"
            ]
          },
          "metadata": {},
          "execution_count": 60
        },
        {
          "output_type": "display_data",
          "data": {
            "text/plain": [
              "<Figure size 1008x504 with 1 Axes>"
            ],
            "image/png": "[encoded data removed]"
          },
          "metadata": {
            "needs_background": "light"
          }
        }
      ]
    },
    {
      "cell_type": "code",
      "source": [
        "#Show predicition for one image\n",
        "\n",
        "import tensorflow as tf\n",
        "import cv2\n",
        "import numpy as np\n",
        "from skimage import transform\n",
        "\n",
        "\n",
        "CATEGORIES = ['Color', 'Friend', 'Myself', 'Promise', 'Request', 'Salam','Surprise', 'They', 'Think', 'You']\n",
        "\n",
        "\n",
        "\n",
        "\n",
        "def convert(np_image):\n",
        "   np_image = np.array(np_image).astype('float32')\n",
        "   np_image = transform.resize(np_image, (64, 64, 3))\n",
        "   np_image = np.expand_dims(np_image, axis=0)\n",
        "   return np_image\n",
        "\n",
        "\n",
        "\n",
        "\n",
        "model2 = tf.keras.models.load_model(\"/content/drive/MyDrive/Sign Language Project/bdsl_word_eng_resnet.h5\")"
      ],
      "metadata": {
        "id": "7sqE4R0IvlYa"
      },
      "execution_count": null,
      "outputs": []
    },
    {
      "cell_type": "code",
      "source": [
        "img = cv2.imread(\"/content/Word/Color/IMG-20220122-WA0039.jpg\")\n",
        "img.shape"
      ],
      "metadata": {
        "colab": {
          "base_uri": "https://localhost:8080/"
        },
        "id": "hYATV7nLvlw1",
        "outputId": "c8300955-e61a-412d-dc0e-1c51dcdbd072"
      },
      "execution_count": null,
      "outputs": [
        {
          "output_type": "execute_result",
          "data": {
            "text/plain": [
              "(1600, 1200, 3)"
            ]
          },
          "metadata": {},
          "execution_count": 62
        }
      ]
    },
    {
      "cell_type": "code",
      "source": [
        "image = convert(img)\n",
        "image.shape"
      ],
      "metadata": {
        "colab": {
          "base_uri": "https://localhost:8080/"
        },
        "id": "BvVs7kuPvmCb",
        "outputId": "1899d078-cd23-469a-fb0c-7f01da6371cf"
      },
      "execution_count": null,
      "outputs": [
        {
          "output_type": "execute_result",
          "data": {
            "text/plain": [
              "(1, 64, 64, 3)"
            ]
          },
          "metadata": {},
          "execution_count": 63
        }
      ]
    },
    {
      "cell_type": "code",
      "source": [
        "prediction = model2.predict(image)"
      ],
      "metadata": {
        "id": "zXlK18e3vmRA"
      },
      "execution_count": null,
      "outputs": []
    },
    {
      "cell_type": "code",
      "source": [
        "print(CATEGORIES[int(np.argmax(prediction[0]))])"
      ],
      "metadata": {
        "colab": {
          "base_uri": "https://localhost:8080/"
        },
        "id": "E4D5vc3PvmkQ",
        "outputId": "46bfb0b4-7188-4281-f483-662e0552a5db"
      },
      "execution_count": null,
      "outputs": [
        {
          "output_type": "stream",
          "name": "stdout",
          "text": [
            "Color\n"
          ]
        }
      ]
    },
    {
      "cell_type": "code",
      "source": [
        "img = cv2.imread(\"/content/Word/Request/IMG_20220121_171553.jpg\")\n",
        "img.shape"
      ],
      "metadata": {
        "colab": {
          "base_uri": "https://localhost:8080/"
        },
        "id": "1Wc2l7LsU-lT",
        "outputId": "00edbf9e-3b16-4e51-c19b-97ac0b4a5e1f"
      },
      "execution_count": null,
      "outputs": [
        {
          "output_type": "execute_result",
          "data": {
            "text/plain": [
              "(3511, 2987, 3)"
            ]
          },
          "metadata": {},
          "execution_count": 74
        }
      ]
    },
    {
      "cell_type": "code",
      "source": [
        "image = convert(img)\n",
        "image.shape"
      ],
      "metadata": {
        "colab": {
          "base_uri": "https://localhost:8080/"
        },
        "id": "kpebkwvOVAVp",
        "outputId": "de6ab01e-0a3b-4986-ba2d-6eab88b8cedc"
      },
      "execution_count": null,
      "outputs": [
        {
          "output_type": "execute_result",
          "data": {
            "text/plain": [
              "(1, 64, 64, 3)"
            ]
          },
          "metadata": {},
          "execution_count": 75
        }
      ]
    },
    {
      "cell_type": "code",
      "source": [
        "prediction = model2.predict(image)"
      ],
      "metadata": {
        "id": "l7VhMd0FVCKI"
      },
      "execution_count": null,
      "outputs": []
    },
    {
      "cell_type": "code",
      "source": [
        "print(CATEGORIES[int(np.argmax(prediction[0]))])"
      ],
      "metadata": {
        "colab": {
          "base_uri": "https://localhost:8080/"
        },
        "id": "alHAlPpWVDmC",
        "outputId": "c69030e3-e7de-4a0e-d886-88788a062e6c"
      },
      "execution_count": null,
      "outputs": [
        {
          "output_type": "stream",
          "name": "stdout",
          "text": [
            "Request\n"
          ]
        }
      ]
    },
    {
      "cell_type": "markdown",
      "metadata": {
        "id": "4LzA5Vkvkebj"
      },
      "source": [
        "# VGG19"
      ]
    },
    {
      "cell_type": "code",
      "execution_count": null,
      "metadata": {
        "colab": {
          "base_uri": "https://localhost:8080/"
        },
        "id": "b9FhaoMdkhny",
        "outputId": "ff2862eb-e61b-45db-89cc-5248b5495dd1"
      },
      "outputs": [
        {
          "output_type": "stream",
          "name": "stdout",
          "text": [
            "Downloading data from https://storage.googleapis.com/tensorflow/keras-applications/vgg19/vgg19_weights_tf_dim_ordering_tf_kernels_notop.h5\n",
            "80142336/80134624 [==============================] - 1s 0us/step\n",
            "80150528/80134624 [==============================] - 1s 0us/step\n"
          ]
        }
      ],
      "source": [
        "classifier_vgg19 = tf.keras.applications.VGG19(input_shape= (64,64,3),include_top=False,weights='imagenet')\n",
        "for layer in classifier_vgg19.layers:\n",
        "    layer.trainable = False"
      ]
    },
    {
      "cell_type": "code",
      "execution_count": null,
      "metadata": {
        "id": "O54U9W07lA40"
      },
      "outputs": [],
      "source": [
        "classifier3 = classifier_vgg19.output#head mode\n",
        "classifier3 = Flatten()(classifier3)#adding layer of flatten\n",
        "classifier3 = Dense(units=256, activation='relu')(classifier3)\n",
        "classifier3 = Dropout(0.6)(classifier3)\n",
        "classifier3 = Dense(units=num_classes, activation='softmax')(classifier3)\n",
        "\n",
        "model3 = Model(inputs = classifier_vgg19.input , outputs = classifier3)\n",
        "model3.compile(optimizer='adam', loss=tf.keras.losses.SparseCategoricalCrossentropy(from_logits=True), metrics=['accuracy'])"
      ]
    },
    {
      "cell_type": "code",
      "execution_count": null,
      "metadata": {
        "colab": {
          "base_uri": "https://localhost:8080/"
        },
        "id": "j_Y5aiwdlInc",
        "outputId": "65a74665-ac23-4551-838e-31131d22ff55"
      },
      "outputs": [
        {
          "output_type": "stream",
          "name": "stdout",
          "text": [
            "Model: \"model_1\"\n",
            "_________________________________________________________________\n",
            " Layer (type)                Output Shape              Param #   \n",
            "=================================================================\n",
            " input_2 (InputLayer)        [(None, 64, 64, 3)]       0         \n",
            "                                                                 \n",
            " block1_conv1 (Conv2D)       (None, 64, 64, 64)        1792      \n",
            "                                                                 \n",
            " block1_conv2 (Conv2D)       (None, 64, 64, 64)        36928     \n",
            "                                                                 \n",
            " block1_pool (MaxPooling2D)  (None, 32, 32, 64)        0         \n",
            "                                                                 \n",
            " block2_conv1 (Conv2D)       (None, 32, 32, 128)       73856     \n",
            "                                                                 \n",
            " block2_conv2 (Conv2D)       (None, 32, 32, 128)       147584    \n",
            "                                                                 \n",
            " block2_pool (MaxPooling2D)  (None, 16, 16, 128)       0         \n",
            "                                                                 \n",
            " block3_conv1 (Conv2D)       (None, 16, 16, 256)       295168    \n",
            "                                                                 \n",
            " block3_conv2 (Conv2D)       (None, 16, 16, 256)       590080    \n",
            "                                                                 \n",
            " block3_conv3 (Conv2D)       (None, 16, 16, 256)       590080    \n",
            "                                                                 \n",
            " block3_conv4 (Conv2D)       (None, 16, 16, 256)       590080    \n",
            "                                                                 \n",
            " block3_pool (MaxPooling2D)  (None, 8, 8, 256)         0         \n",
            "                                                                 \n",
            " block4_conv1 (Conv2D)       (None, 8, 8, 512)         1180160   \n",
            "                                                                 \n",
            " block4_conv2 (Conv2D)       (None, 8, 8, 512)         2359808   \n",
            "                                                                 \n",
            " block4_conv3 (Conv2D)       (None, 8, 8, 512)         2359808   \n",
            "                                                                 \n",
            " block4_conv4 (Conv2D)       (None, 8, 8, 512)         2359808   \n",
            "                                                                 \n",
            " block4_pool (MaxPooling2D)  (None, 4, 4, 512)         0         \n",
            "                                                                 \n",
            " block5_conv1 (Conv2D)       (None, 4, 4, 512)         2359808   \n",
            "                                                                 \n",
            " block5_conv2 (Conv2D)       (None, 4, 4, 512)         2359808   \n",
            "                                                                 \n",
            " block5_conv3 (Conv2D)       (None, 4, 4, 512)         2359808   \n",
            "                                                                 \n",
            " block5_conv4 (Conv2D)       (None, 4, 4, 512)         2359808   \n",
            "                                                                 \n",
            " block5_pool (MaxPooling2D)  (None, 2, 2, 512)         0         \n",
            "                                                                 \n",
            " flatten_2 (Flatten)         (None, 2048)              0         \n",
            "                                                                 \n",
            " dense_3 (Dense)             (None, 256)               524544    \n",
            "                                                                 \n",
            " dropout_1 (Dropout)         (None, 256)               0         \n",
            "                                                                 \n",
            " dense_4 (Dense)             (None, 10)                2570      \n",
            "                                                                 \n",
            "=================================================================\n",
            "Total params: 20,551,498\n",
            "Trainable params: 527,114\n",
            "Non-trainable params: 20,024,384\n",
            "_________________________________________________________________\n"
          ]
        }
      ],
      "source": [
        "model3.summary()"
      ]
    },
    {
      "cell_type": "code",
      "execution_count": null,
      "metadata": {
        "colab": {
          "base_uri": "https://localhost:8080/"
        },
        "id": "p7E83ASUlJIM",
        "outputId": "64e39bb7-621b-4d2d-c96d-a99afd9c42c0"
      },
      "outputs": [
        {
          "output_type": "stream",
          "name": "stdout",
          "text": [
            "Epoch 1/10\n"
          ]
        },
        {
          "output_type": "stream",
          "name": "stderr",
          "text": [
            "/usr/local/lib/python3.7/dist-packages/tensorflow/python/util/dispatch.py:1082: UserWarning: \"`sparse_categorical_crossentropy` received `from_logits=True`, but the `output` argument was produced by a sigmoid or softmax activation and thus does not represent logits. Was this intended?\"\n",
            "  return dispatch_target(*args, **kwargs)\n"
          ]
        },
        {
          "output_type": "stream",
          "name": "stdout",
          "text": [
            "25/25 [==============================] - 40s 1s/step - loss: 17.4124 - accuracy: 0.3665 - val_loss: 1.9535 - val_accuracy: 0.7929\n",
            "Epoch 2/10\n",
            "25/25 [==============================] - 38s 1s/step - loss: 3.0971 - accuracy: 0.7065 - val_loss: 0.8670 - val_accuracy: 0.8939\n",
            "Epoch 3/10\n",
            "25/25 [==============================] - 37s 1s/step - loss: 1.6224 - accuracy: 0.7443 - val_loss: 0.5777 - val_accuracy: 0.8990\n",
            "Epoch 4/10\n",
            "25/25 [==============================] - 37s 1s/step - loss: 1.0377 - accuracy: 0.8023 - val_loss: 0.7197 - val_accuracy: 0.8788\n",
            "Epoch 5/10\n",
            "25/25 [==============================] - 37s 1s/step - loss: 0.6906 - accuracy: 0.8539 - val_loss: 0.4746 - val_accuracy: 0.9040\n",
            "Epoch 6/10\n",
            "25/25 [==============================] - 37s 1s/step - loss: 0.6536 - accuracy: 0.8602 - val_loss: 0.3777 - val_accuracy: 0.9192\n",
            "Epoch 7/10\n",
            "25/25 [==============================] - 37s 1s/step - loss: 0.5999 - accuracy: 0.8615 - val_loss: 0.4062 - val_accuracy: 0.9495\n",
            "Epoch 8/10\n",
            "25/25 [==============================] - 37s 1s/step - loss: 0.4226 - accuracy: 0.8804 - val_loss: 0.4067 - val_accuracy: 0.9394\n",
            "Epoch 9/10\n",
            "25/25 [==============================] - 37s 1s/step - loss: 0.3792 - accuracy: 0.9055 - val_loss: 0.4283 - val_accuracy: 0.9394\n",
            "Epoch 10/10\n",
            "25/25 [==============================] - 37s 1s/step - loss: 0.3981 - accuracy: 0.8892 - val_loss: 0.5849 - val_accuracy: 0.9343\n"
          ]
        }
      ],
      "source": [
        "history3 = model3.fit(train_ds, epochs=10, validation_data=val_ds)"
      ]
    },
    {
      "cell_type": "code",
      "source": [
        "#save the model for predictions\n",
        "model2.save('/content/drive/MyDrive/Sign Language Project/bdsl_word_eng_vgg19.h5')"
      ],
      "metadata": {
        "id": "peG5Uf4V-AnA"
      },
      "execution_count": null,
      "outputs": []
    },
    {
      "cell_type": "code",
      "source": [
        "# Validation and Training accuracy plot\n",
        "acc=history3.history['accuracy']\n",
        "val_acc=history3.history['val_accuracy']\n",
        "loss=history3.history['loss']\n",
        "val_loss=history3.history['val_loss']\n",
        "\n",
        "epochs=range(len(acc))\n",
        "\n",
        "fig = plt.figure(figsize=(14,7))\n",
        "plt.plot(epochs, acc, 'r', label=\"Training Accuracy\")\n",
        "plt.plot(epochs, val_acc, 'b', label=\"Validation Accuracy\")\n",
        "plt.xlabel('Epoch')\n",
        "plt.ylabel('Accuracy')\n",
        "plt.title('Training and validation accuracy')\n",
        "plt.legend(loc='lower right')\n",
        "plt.show()"
      ],
      "metadata": {
        "colab": {
          "base_uri": "https://localhost:8080/",
          "height": 458
        },
        "id": "oj5A04nrzpJV",
        "outputId": "df9f1310-bb0a-42ce-b563-fab640f24f51"
      },
      "execution_count": null,
      "outputs": [
        {
          "output_type": "display_data",
          "data": {
            "text/plain": [
              "<Figure size 1008x504 with 1 Axes>"
            ],
            "image/png": "[encoded data removed]"
          },
          "metadata": {
            "needs_background": "light"
          }
        }
      ]
    },
    {
      "cell_type": "code",
      "source": [
        "#Validation and Training loss plot\n",
        "fig = plt.figure(figsize=(14,7))\n",
        "plt.plot(epochs, loss, 'r', label=\"Training Loss\")\n",
        "plt.plot(epochs, val_loss, 'b', label=\"Validation Loss\")\n",
        "plt.legend(loc='upper right')\n",
        "plt.xlabel('Epoch')\n",
        "plt.ylabel('Loss')\n",
        "plt.title('Training and validation loss')"
      ],
      "metadata": {
        "colab": {
          "base_uri": "https://localhost:8080/",
          "height": 475
        },
        "id": "jTioDRXnz4ca",
        "outputId": "ffcc35ce-b988-4cc0-bcfb-524bfb3e6c97"
      },
      "execution_count": null,
      "outputs": [
        {
          "output_type": "execute_result",
          "data": {
            "text/plain": [
              "Text(0.5, 1.0, 'Training and validation loss')"
            ]
          },
          "metadata": {},
          "execution_count": 84
        },
        {
          "output_type": "display_data",
          "data": {
            "text/plain": [
              "<Figure size 1008x504 with 1 Axes>"
            ],
            "image/png": "[encoded data removed]"
          },
          "metadata": {
            "needs_background": "light"
          }
        }
      ]
    },
    {
      "cell_type": "markdown",
      "metadata": {
        "id": "BKXi-qy4ogFF"
      },
      "source": [
        "# VGG16"
      ]
    },
    {
      "cell_type": "code",
      "execution_count": null,
      "metadata": {
        "colab": {
          "base_uri": "https://localhost:8080/"
        },
        "id": "gfrjjyYaoec4",
        "outputId": "e89dacad-1cc0-4288-dab4-5a521aa4d236"
      },
      "outputs": [
        {
          "output_type": "stream",
          "name": "stdout",
          "text": [
            "Downloading data from https://storage.googleapis.com/tensorflow/keras-applications/vgg16/vgg16_weights_tf_dim_ordering_tf_kernels_notop.h5\n",
            "58892288/58889256 [==============================] - 0s 0us/step\n",
            "58900480/58889256 [==============================] - 0s 0us/step\n"
          ]
        }
      ],
      "source": [
        "classifier_vgg16 = VGG16(input_shape= (64,64,3),include_top=False,weights='imagenet')\n",
        "for layer in classifier_vgg16.layers:\n",
        "    layer.trainable = False"
      ]
    },
    {
      "cell_type": "code",
      "execution_count": null,
      "metadata": {
        "id": "M7aJR29EpV26"
      },
      "outputs": [],
      "source": [
        "classifier4 = classifier_vgg16.output#head mode\n",
        "classifier4 = Flatten()(classifier4)#adding layer of flatten\n",
        "classifier4 = Dense(units=256, activation='relu')(classifier4)\n",
        "classifier4 = Dropout(0.6)(classifier4)\n",
        "classifier4 = Dense(units=num_classes, activation='softmax')(classifier4)\n",
        "\n",
        "model4 = Model(inputs = classifier_vgg16.input , outputs = classifier4)\n",
        "model4.compile(optimizer='adam', loss=tf.keras.losses.SparseCategoricalCrossentropy(from_logits=True), metrics=['accuracy'])"
      ]
    },
    {
      "cell_type": "code",
      "execution_count": null,
      "metadata": {
        "colab": {
          "base_uri": "https://localhost:8080/"
        },
        "id": "BeRsbTCspr20",
        "outputId": "161831c8-30b8-4171-c50c-079142290364"
      },
      "outputs": [
        {
          "output_type": "stream",
          "name": "stdout",
          "text": [
            "Model: \"model_2\"\n",
            "_________________________________________________________________\n",
            " Layer (type)                Output Shape              Param #   \n",
            "=================================================================\n",
            " input_3 (InputLayer)        [(None, 64, 64, 3)]       0         \n",
            "                                                                 \n",
            " block1_conv1 (Conv2D)       (None, 64, 64, 64)        1792      \n",
            "                                                                 \n",
            " block1_conv2 (Conv2D)       (None, 64, 64, 64)        36928     \n",
            "                                                                 \n",
            " block1_pool (MaxPooling2D)  (None, 32, 32, 64)        0         \n",
            "                                                                 \n",
            " block2_conv1 (Conv2D)       (None, 32, 32, 128)       73856     \n",
            "                                                                 \n",
            " block2_conv2 (Conv2D)       (None, 32, 32, 128)       147584    \n",
            "                                                                 \n",
            " block2_pool (MaxPooling2D)  (None, 16, 16, 128)       0         \n",
            "                                                                 \n",
            " block3_conv1 (Conv2D)       (None, 16, 16, 256)       295168    \n",
            "                                                                 \n",
            " block3_conv2 (Conv2D)       (None, 16, 16, 256)       590080    \n",
            "                                                                 \n",
            " block3_conv3 (Conv2D)       (None, 16, 16, 256)       590080    \n",
            "                                                                 \n",
            " block3_pool (MaxPooling2D)  (None, 8, 8, 256)         0         \n",
            "                                                                 \n",
            " block4_conv1 (Conv2D)       (None, 8, 8, 512)         1180160   \n",
            "                                                                 \n",
            " block4_conv2 (Conv2D)       (None, 8, 8, 512)         2359808   \n",
            "                                                                 \n",
            " block4_conv3 (Conv2D)       (None, 8, 8, 512)         2359808   \n",
            "                                                                 \n",
            " block4_pool (MaxPooling2D)  (None, 4, 4, 512)         0         \n",
            "                                                                 \n",
            " block5_conv1 (Conv2D)       (None, 4, 4, 512)         2359808   \n",
            "                                                                 \n",
            " block5_conv2 (Conv2D)       (None, 4, 4, 512)         2359808   \n",
            "                                                                 \n",
            " block5_conv3 (Conv2D)       (None, 4, 4, 512)         2359808   \n",
            "                                                                 \n",
            " block5_pool (MaxPooling2D)  (None, 2, 2, 512)         0         \n",
            "                                                                 \n",
            " flatten_3 (Flatten)         (None, 2048)              0         \n",
            "                                                                 \n",
            " dense_5 (Dense)             (None, 256)               524544    \n",
            "                                                                 \n",
            " dropout_2 (Dropout)         (None, 256)               0         \n",
            "                                                                 \n",
            " dense_6 (Dense)             (None, 10)                2570      \n",
            "                                                                 \n",
            "=================================================================\n",
            "Total params: 15,241,802\n",
            "Trainable params: 527,114\n",
            "Non-trainable params: 14,714,688\n",
            "_________________________________________________________________\n"
          ]
        }
      ],
      "source": [
        "model4.summary()"
      ]
    },
    {
      "cell_type": "code",
      "execution_count": null,
      "metadata": {
        "colab": {
          "base_uri": "https://localhost:8080/"
        },
        "id": "hEktssptptFj",
        "outputId": "0ce14d49-eaab-4cc4-9fba-b337a18d8bf1"
      },
      "outputs": [
        {
          "output_type": "stream",
          "name": "stdout",
          "text": [
            "Epoch 1/10\n"
          ]
        },
        {
          "output_type": "stream",
          "name": "stderr",
          "text": [
            "/usr/local/lib/python3.7/dist-packages/tensorflow/python/util/dispatch.py:1082: UserWarning: \"`sparse_categorical_crossentropy` received `from_logits=True`, but the `output` argument was produced by a sigmoid or softmax activation and thus does not represent logits. Was this intended?\"\n",
            "  return dispatch_target(*args, **kwargs)\n"
          ]
        },
        {
          "output_type": "stream",
          "name": "stdout",
          "text": [
            "25/25 [==============================] - 40s 1s/step - loss: 20.7233 - accuracy: 0.3804 - val_loss: 1.6174 - val_accuracy: 0.8283\n",
            "Epoch 2/10\n",
            "25/25 [==============================] - 36s 1s/step - loss: 3.5907 - accuracy: 0.7028 - val_loss: 1.3058 - val_accuracy: 0.8333\n",
            "Epoch 3/10\n",
            "25/25 [==============================] - 36s 1s/step - loss: 1.6220 - accuracy: 0.7922 - val_loss: 0.8556 - val_accuracy: 0.8535\n",
            "Epoch 4/10\n",
            "25/25 [==============================] - 37s 1s/step - loss: 0.9919 - accuracy: 0.8438 - val_loss: 0.6792 - val_accuracy: 0.8636\n",
            "Epoch 5/10\n",
            "25/25 [==============================] - 37s 1s/step - loss: 0.7391 - accuracy: 0.8627 - val_loss: 0.6074 - val_accuracy: 0.8889\n",
            "Epoch 6/10\n",
            "25/25 [==============================] - 36s 1s/step - loss: 0.5676 - accuracy: 0.8816 - val_loss: 0.8157 - val_accuracy: 0.8687\n",
            "Epoch 7/10\n",
            "25/25 [==============================] - 36s 1s/step - loss: 0.5875 - accuracy: 0.8854 - val_loss: 0.6116 - val_accuracy: 0.8889\n",
            "Epoch 8/10\n",
            "25/25 [==============================] - 36s 1s/step - loss: 0.4207 - accuracy: 0.9018 - val_loss: 0.8387 - val_accuracy: 0.9091\n",
            "Epoch 9/10\n",
            "25/25 [==============================] - 36s 1s/step - loss: 0.4073 - accuracy: 0.9018 - val_loss: 0.7187 - val_accuracy: 0.9091\n",
            "Epoch 10/10\n",
            "25/25 [==============================] - 36s 1s/step - loss: 0.4029 - accuracy: 0.9055 - val_loss: 0.6094 - val_accuracy: 0.9293\n"
          ]
        }
      ],
      "source": [
        "history4 = model4.fit(train_ds, epochs=10, validation_data=val_ds)"
      ]
    },
    {
      "cell_type": "code",
      "source": [
        "#save the model for predictions\n",
        "model2.save('/content/drive/MyDrive/Sign Language Project/bdsl_word_eng_vgg16.h5')"
      ],
      "metadata": {
        "id": "Nd0VGdjL99O1"
      },
      "execution_count": null,
      "outputs": []
    },
    {
      "cell_type": "code",
      "source": [
        "# Validation and Training accuracy plot\n",
        "acc=history4.history['accuracy']\n",
        "val_acc=history4.history['val_accuracy']\n",
        "loss=history4.history['loss']\n",
        "val_loss=history4.history['val_loss']\n",
        "\n",
        "epochs=range(len(acc))\n",
        "\n",
        "fig = plt.figure(figsize=(14,7))\n",
        "plt.plot(epochs, acc, 'r', label=\"Training Accuracy\")\n",
        "plt.plot(epochs, val_acc, 'b', label=\"Validation Accuracy\")\n",
        "plt.xlabel('Epoch')\n",
        "plt.ylabel('Accuracy')\n",
        "plt.title('Training and validation accuracy')\n",
        "plt.legend(loc='lower right')\n",
        "plt.show()"
      ],
      "metadata": {
        "colab": {
          "base_uri": "https://localhost:8080/",
          "height": 458
        },
        "id": "CwLHjCvuzw82",
        "outputId": "75857e13-a34e-419d-bc23-82ea1a0a786a"
      },
      "execution_count": null,
      "outputs": [
        {
          "output_type": "display_data",
          "data": {
            "text/plain": [
              "<Figure size 1008x504 with 1 Axes>"
            ],
            "image/png": "[encoded data removed]"
          },
          "metadata": {
            "needs_background": "light"
          }
        }
      ]
    },
    {
      "cell_type": "code",
      "source": [
        "#Validation and Training loss plot\n",
        "fig = plt.figure(figsize=(14,7))\n",
        "plt.plot(epochs, loss, 'r', label=\"Training Loss\")\n",
        "plt.plot(epochs, val_loss, 'b', label=\"Validation Loss\")\n",
        "plt.legend(loc='upper right')\n",
        "plt.xlabel('Epoch')\n",
        "plt.ylabel('Loss')\n",
        "plt.title('Training and validation loss')"
      ],
      "metadata": {
        "colab": {
          "base_uri": "https://localhost:8080/",
          "height": 475
        },
        "id": "bnzUF3sp56FX",
        "outputId": "96071b21-c18a-4897-b992-a5f30a76b550"
      },
      "execution_count": null,
      "outputs": [
        {
          "output_type": "execute_result",
          "data": {
            "text/plain": [
              "Text(0.5, 1.0, 'Training and validation loss')"
            ]
          },
          "metadata": {},
          "execution_count": 91
        },
        {
          "output_type": "display_data",
          "data": {
            "text/plain": [
              "<Figure size 1008x504 with 1 Axes>"
            ],
            "image/png": "[encoded data removed]"
          },
          "metadata": {
            "needs_background": "light"
          }
        }
      ]
    },
    {
      "cell_type": "code",
      "source": [
        ""
      ],
      "metadata": {
        "id": "JsG5H74i58dx"
      },
      "execution_count": null,
      "outputs": []
    }
  ],
  "metadata": {
    "accelerator": "GPU",
    "colab": {
      "collapsed_sections": [],
      "name": "BdSL_Word_En.ipynb",
      "provenance": []
    },
    "kernelspec": {
      "display_name": "Python 3",
      "name": "python3"
    },
    "language_info": {
      "name": "python"
    }
  },
  "nbformat": 4,
  "nbformat_minor": 0
}